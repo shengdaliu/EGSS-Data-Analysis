{
 "cells": [
  {
   "cell_type": "markdown",
   "metadata": {},
   "source": [
    " # EGSS-Data-Analysis Project"
   ]
  },
  {
   "cell_type": "markdown",
   "metadata": {},
   "source": [
    "### Data Set Information:\n",
    "\n",
    "The analysis is performed for different sets of input values using the methodology similar to that described in [SchÃ¤fer, Benjamin, et al. 'Taming instabilities in power grid networks by decentralized control.' The European Physical Journal Special Topics 225.3 (2016): 569-582.]. Several input values are kept the same: averaging time: 2 s; coupling strength: 8 s^-2; damping: 0.1 s^-1\n",
    "\n",
    "### Attribute Information:\n",
    "\n",
    "11 predictive attributes, 1 non-predictive(p1), 2 goal fields:\n",
    "1. tau[x]: reaction time of participant (real from the range [0.5,10]s). Tau1 - the value for electricity producer.\n",
    "2. p[x]: nominal power consumed(negative)/produced(positive)(real). For consumers from the range [-0.5,-2]s^-2; p1 = abs(p2 + p3 + p4)\n",
    "3. g[x]: coefficient (gamma) proportional to price elasticity (real from the range [0.05,1]s^-1). g1 - the value for electricity producer.\n",
    "4. stab: the maximal real part of the characteristic equation root (if positive - the system is linearly unstable)(real)\n",
    "5. stabf: the stability label of the system (categorical: stable/unstable) "
   ]
  },
  {
   "cell_type": "code",
   "execution_count": 37,
   "metadata": {},
   "outputs": [
    {
     "name": "stdout",
     "output_type": "stream",
     "text": [
      "The pandas version is 0.23.0.\n",
      "The scikit-learn version is 0.20.2.\n"
     ]
    }
   ],
   "source": [
    "import pandas\n",
    "import sklearn\n",
    "\n",
    "print('The pandas version is {}.'.format(pandas.__version__))\n",
    "print('The scikit-learn version is {}.'.format(sklearn.__version__))"
   ]
  },
  {
   "cell_type": "markdown",
   "metadata": {},
   "source": [
    "## Web Scrapping"
   ]
  },
  {
   "cell_type": "code",
   "execution_count": 21,
   "metadata": {},
   "outputs": [],
   "source": [
    "from selenium import webdriver\n",
    "# from selenium.webdriver.common.keys import Keys\n",
    "\n",
    "root_url = \"https://archive.ics.uci.edu/ml/datasets/Electrical+Grid+Stability+Simulated+Data+\"\n",
    "\n",
    "wd = webdriver.Firefox()\n",
    "wd.get(\"https://archive.ics.uci.edu/ml/datasets/Electrical+Grid+Stability+Simulated+Data+\")\n",
    "wd.find_element_by_xpath(\"/html/body/table[2]/tbody/tr/td/table[1]/tbody/tr/td[1]/p[1]/span[2]/a[1]\").click()\n",
    "wd.find_element_by_xpath(\"/html/body/table/tbody/tr[4]/td[2]/a\").click()\n",
    "wd.close()\n"
   ]
  },
  {
   "cell_type": "markdown",
   "metadata": {},
   "source": [
    "## Data Viz"
   ]
  },
  {
   "cell_type": "code",
   "execution_count": null,
   "metadata": {},
   "outputs": [],
   "source": []
  },
  {
   "cell_type": "markdown",
   "metadata": {},
   "source": [
    "## Data Prep"
   ]
  },
  {
   "cell_type": "markdown",
   "metadata": {},
   "source": [
    "### Import Dataset"
   ]
  },
  {
   "cell_type": "code",
   "execution_count": 174,
   "metadata": {},
   "outputs": [
    {
     "data": {
      "text/plain": [
       "(10000, 15)"
      ]
     },
     "execution_count": 174,
     "metadata": {},
     "output_type": "execute_result"
    }
   ],
   "source": [
    "import pandas as pd\n",
    "\n",
    "df = pd.read_csv(\"./Data_for_UCI_named.csv\")\n",
    "df = pd.get_dummies(df)\n",
    "df.shape"
   ]
  },
  {
   "cell_type": "code",
   "execution_count": 175,
   "metadata": {
    "scrolled": true
   },
   "outputs": [
    {
     "data": {
      "text/html": [
       "<div>\n",
       "<style scoped>\n",
       "    .dataframe tbody tr th:only-of-type {\n",
       "        vertical-align: middle;\n",
       "    }\n",
       "\n",
       "    .dataframe tbody tr th {\n",
       "        vertical-align: top;\n",
       "    }\n",
       "\n",
       "    .dataframe thead th {\n",
       "        text-align: right;\n",
       "    }\n",
       "</style>\n",
       "<table border=\"1\" class=\"dataframe\">\n",
       "  <thead>\n",
       "    <tr style=\"text-align: right;\">\n",
       "      <th></th>\n",
       "      <th>tau1</th>\n",
       "      <th>tau2</th>\n",
       "      <th>tau3</th>\n",
       "      <th>tau4</th>\n",
       "      <th>p1</th>\n",
       "      <th>p2</th>\n",
       "      <th>p3</th>\n",
       "      <th>p4</th>\n",
       "      <th>g1</th>\n",
       "      <th>g2</th>\n",
       "      <th>g3</th>\n",
       "      <th>g4</th>\n",
       "      <th>stab</th>\n",
       "      <th>stabf_stable</th>\n",
       "      <th>stabf_unstable</th>\n",
       "    </tr>\n",
       "  </thead>\n",
       "  <tbody>\n",
       "    <tr>\n",
       "      <th>0</th>\n",
       "      <td>2.959060</td>\n",
       "      <td>3.079885</td>\n",
       "      <td>8.381025</td>\n",
       "      <td>9.780754</td>\n",
       "      <td>3.763085</td>\n",
       "      <td>-0.782604</td>\n",
       "      <td>-1.257395</td>\n",
       "      <td>-1.723086</td>\n",
       "      <td>0.650456</td>\n",
       "      <td>0.859578</td>\n",
       "      <td>0.887445</td>\n",
       "      <td>0.958034</td>\n",
       "      <td>0.055347</td>\n",
       "      <td>0</td>\n",
       "      <td>1</td>\n",
       "    </tr>\n",
       "    <tr>\n",
       "      <th>1</th>\n",
       "      <td>9.304097</td>\n",
       "      <td>4.902524</td>\n",
       "      <td>3.047541</td>\n",
       "      <td>1.369357</td>\n",
       "      <td>5.067812</td>\n",
       "      <td>-1.940058</td>\n",
       "      <td>-1.872742</td>\n",
       "      <td>-1.255012</td>\n",
       "      <td>0.413441</td>\n",
       "      <td>0.862414</td>\n",
       "      <td>0.562139</td>\n",
       "      <td>0.781760</td>\n",
       "      <td>-0.005957</td>\n",
       "      <td>1</td>\n",
       "      <td>0</td>\n",
       "    </tr>\n",
       "    <tr>\n",
       "      <th>2</th>\n",
       "      <td>8.971707</td>\n",
       "      <td>8.848428</td>\n",
       "      <td>3.046479</td>\n",
       "      <td>1.214518</td>\n",
       "      <td>3.405158</td>\n",
       "      <td>-1.207456</td>\n",
       "      <td>-1.277210</td>\n",
       "      <td>-0.920492</td>\n",
       "      <td>0.163041</td>\n",
       "      <td>0.766689</td>\n",
       "      <td>0.839444</td>\n",
       "      <td>0.109853</td>\n",
       "      <td>0.003471</td>\n",
       "      <td>0</td>\n",
       "      <td>1</td>\n",
       "    </tr>\n",
       "    <tr>\n",
       "      <th>3</th>\n",
       "      <td>0.716415</td>\n",
       "      <td>7.669600</td>\n",
       "      <td>4.486641</td>\n",
       "      <td>2.340563</td>\n",
       "      <td>3.963791</td>\n",
       "      <td>-1.027473</td>\n",
       "      <td>-1.938944</td>\n",
       "      <td>-0.997374</td>\n",
       "      <td>0.446209</td>\n",
       "      <td>0.976744</td>\n",
       "      <td>0.929381</td>\n",
       "      <td>0.362718</td>\n",
       "      <td>0.028871</td>\n",
       "      <td>0</td>\n",
       "      <td>1</td>\n",
       "    </tr>\n",
       "    <tr>\n",
       "      <th>4</th>\n",
       "      <td>3.134112</td>\n",
       "      <td>7.608772</td>\n",
       "      <td>4.943759</td>\n",
       "      <td>9.857573</td>\n",
       "      <td>3.525811</td>\n",
       "      <td>-1.125531</td>\n",
       "      <td>-1.845975</td>\n",
       "      <td>-0.554305</td>\n",
       "      <td>0.797110</td>\n",
       "      <td>0.455450</td>\n",
       "      <td>0.656947</td>\n",
       "      <td>0.820923</td>\n",
       "      <td>0.049860</td>\n",
       "      <td>0</td>\n",
       "      <td>1</td>\n",
       "    </tr>\n",
       "  </tbody>\n",
       "</table>\n",
       "</div>"
      ],
      "text/plain": [
       "       tau1      tau2      tau3      tau4        p1        p2        p3  \\\n",
       "0  2.959060  3.079885  8.381025  9.780754  3.763085 -0.782604 -1.257395   \n",
       "1  9.304097  4.902524  3.047541  1.369357  5.067812 -1.940058 -1.872742   \n",
       "2  8.971707  8.848428  3.046479  1.214518  3.405158 -1.207456 -1.277210   \n",
       "3  0.716415  7.669600  4.486641  2.340563  3.963791 -1.027473 -1.938944   \n",
       "4  3.134112  7.608772  4.943759  9.857573  3.525811 -1.125531 -1.845975   \n",
       "\n",
       "         p4        g1        g2        g3        g4      stab  stabf_stable  \\\n",
       "0 -1.723086  0.650456  0.859578  0.887445  0.958034  0.055347             0   \n",
       "1 -1.255012  0.413441  0.862414  0.562139  0.781760 -0.005957             1   \n",
       "2 -0.920492  0.163041  0.766689  0.839444  0.109853  0.003471             0   \n",
       "3 -0.997374  0.446209  0.976744  0.929381  0.362718  0.028871             0   \n",
       "4 -0.554305  0.797110  0.455450  0.656947  0.820923  0.049860             0   \n",
       "\n",
       "   stabf_unstable  \n",
       "0               1  \n",
       "1               0  \n",
       "2               1  \n",
       "3               1  \n",
       "4               1  "
      ]
     },
     "execution_count": 175,
     "metadata": {},
     "output_type": "execute_result"
    }
   ],
   "source": [
    "df.head()"
   ]
  },
  {
   "cell_type": "code",
   "execution_count": 57,
   "metadata": {
    "scrolled": true
   },
   "outputs": [
    {
     "data": {
      "text/plain": [
       "Index(['tau1', 'tau2', 'tau3', 'tau4', 'p1', 'p2', 'p3', 'p4', 'g1', 'g2',\n",
       "       'g3', 'g4', 'stab', 'stabf_stable', 'stabf_unstable'],\n",
       "      dtype='object')"
      ]
     },
     "execution_count": 57,
     "metadata": {},
     "output_type": "execute_result"
    }
   ],
   "source": [
    "df.columns"
   ]
  },
  {
   "cell_type": "code",
   "execution_count": 58,
   "metadata": {
    "scrolled": true
   },
   "outputs": [],
   "source": [
    "X = df[['tau1', 'tau2', 'tau3', 'tau4', 'p2', 'p3', 'p4', 'g1', 'g2','g3', 'g4']].values\n",
    "y = df[['stabf_stable']].values.flatten()"
   ]
  },
  {
   "cell_type": "markdown",
   "metadata": {},
   "source": [
    "## Data Modeling"
   ]
  },
  {
   "cell_type": "markdown",
   "metadata": {},
   "source": [
    "### Separer le jeu d'apprentissage du jeu de test"
   ]
  },
  {
   "cell_type": "code",
   "execution_count": 59,
   "metadata": {
    "scrolled": true
   },
   "outputs": [],
   "source": [
    "from sklearn.model_selection import train_test_split\n",
    "X_train, X_test, y_train, y_test = train_test_split(X, y, test_size=0.33)"
   ]
  },
  {
   "cell_type": "markdown",
   "metadata": {},
   "source": [
    "### Standardiser les valeurs"
   ]
  },
  {
   "cell_type": "code",
   "execution_count": 60,
   "metadata": {},
   "outputs": [],
   "source": [
    "from sklearn.preprocessing import StandardScaler\n",
    "\n",
    "scaler = StandardScaler()\n",
    "scaler.fit(X_train)                 # Il ne faut fiter que sur les data d'entrainement\n",
    "X_train = scaler.transform(X_train)\n",
    "X_test  = scaler.transform(X_test)  # apply same transformation to test data"
   ]
  },
  {
   "cell_type": "markdown",
   "metadata": {},
   "source": [
    "### Choisir un algo et le tester (exemple : Support Vector Machine)"
   ]
  },
  {
   "cell_type": "code",
   "execution_count": 61,
   "metadata": {},
   "outputs": [
    {
     "data": {
      "text/plain": [
       "{'C': 1.0,\n",
       " 'cache_size': 200,\n",
       " 'class_weight': None,\n",
       " 'coef0': 0.0,\n",
       " 'decision_function_shape': 'ovr',\n",
       " 'degree': 3,\n",
       " 'gamma': 'auto_deprecated',\n",
       " 'kernel': 'rbf',\n",
       " 'max_iter': -1,\n",
       " 'probability': False,\n",
       " 'random_state': None,\n",
       " 'shrinking': True,\n",
       " 'tol': 0.001,\n",
       " 'verbose': False}"
      ]
     },
     "execution_count": 61,
     "metadata": {},
     "output_type": "execute_result"
    }
   ],
   "source": [
    "from sklearn import svm\n",
    "algorithme = svm.SVC()\n",
    "algorithme.get_params()"
   ]
  },
  {
   "cell_type": "code",
   "execution_count": 62,
   "metadata": {},
   "outputs": [
    {
     "data": {
      "text/plain": [
       "array([0.8905219 , 0.9070186 , 0.90066026])"
      ]
     },
     "execution_count": 62,
     "metadata": {},
     "output_type": "execute_result"
    }
   ],
   "source": [
    "from sklearn import model_selection\n",
    "from sklearn.model_selection import cross_val_score\n",
    "cross_val_score(algorithme, X, y, cv=3, n_jobs=-1)"
   ]
  },
  {
   "cell_type": "markdown",
   "metadata": {},
   "source": [
    "### Aller au delà des paramètres par défaut avec un grid search"
   ]
  },
  {
   "cell_type": "code",
   "execution_count": 63,
   "metadata": {},
   "outputs": [
    {
     "name": "stdout",
     "output_type": "stream",
     "text": [
      "0.9459701492537314 0.953939393939394\n"
     ]
    }
   ],
   "source": [
    "from sklearn import model_selection\n",
    "from sklearn.model_selection import GridSearchCV\n",
    "parameters = {'gamma' : [0.01, 0.1, 0.5], \n",
    "              \"probability\" : [True]}\n",
    "grid = GridSearchCV(algorithme, parameters, cv=3, n_jobs=-1)\n",
    "grid.fit(X_train, y_train)\n",
    "\n",
    "print(grid.best_score_, grid.best_estimator_.score(X_test, y_test))\n"
   ]
  },
  {
   "cell_type": "markdown",
   "metadata": {},
   "source": [
    "### Affiner le grid search"
   ]
  },
  {
   "cell_type": "code",
   "execution_count": 64,
   "metadata": {
    "scrolled": true
   },
   "outputs": [
    {
     "name": "stdout",
     "output_type": "stream",
     "text": [
      "0.9525373134328359 SVC(C=1.5, cache_size=200, class_weight=None, coef0=0.0,\n",
      "  decision_function_shape='ovr', degree=3, gamma=0.1, kernel='rbf',\n",
      "  max_iter=-1, probability=False, random_state=None, shrinking=True,\n",
      "  tol=0.001, verbose=False)\n"
     ]
    }
   ],
   "source": [
    "parameters = {'C' : [0.5, 1, 1.5],\n",
    "              'gamma' : [0.5, 0.1, 0.15]}\n",
    "grid = GridSearchCV(svm.SVC(), parameters, cv=3, n_jobs=-1)\n",
    "grid.fit(X_train, y_train)\n",
    "print(grid.best_score_, grid.best_estimator_)"
   ]
  },
  {
   "cell_type": "code",
   "execution_count": 65,
   "metadata": {},
   "outputs": [
    {
     "name": "stdout",
     "output_type": "stream",
     "text": [
      "0.9583582089552238 SVC(C=2.5, cache_size=200, class_weight=None, coef0=0.0,\n",
      "  decision_function_shape='ovr', degree=3, gamma=0.1, kernel='rbf',\n",
      "  max_iter=-1, probability=False, random_state=None, shrinking=True,\n",
      "  tol=0.001, verbose=False)\n"
     ]
    }
   ],
   "source": [
    "parameters = {'C'      : [1.5, 2, 2.5],\n",
    "              'kernel' : ['rbf', 'poly', 'sigmoid'],\n",
    "              'gamma'  : [ 0.05, 0.10, 0.15] }\n",
    "grid = GridSearchCV(svm.SVC(), parameters, cv=3, n_jobs=-1)\n",
    "grid.fit(X_train, y_train)\n",
    "print(grid.best_score_, grid.best_estimator_)"
   ]
  },
  {
   "cell_type": "code",
   "execution_count": 66,
   "metadata": {},
   "outputs": [
    {
     "name": "stdout",
     "output_type": "stream",
     "text": [
      "0.9571641791044776 SVC(C=4, cache_size=200, class_weight=None, coef0=0.0,\n",
      "  decision_function_shape='ovr', degree=1, gamma=0.07, kernel='rbf',\n",
      "  max_iter=-1, probability=False, random_state=None, shrinking=True,\n",
      "  tol=0.001, verbose=False)\n"
     ]
    }
   ],
   "source": [
    "parameters = {'C'       : [2.5, 3, 4],\n",
    "              'kernel'  : ['rbf', 'poly', 'sigmoid'],\n",
    "              'gamma'   : [ 0.01, 0.05, 0.07],\n",
    "              \"degree\" : [1,3,5]}\n",
    "grid = GridSearchCV(svm.SVC(), parameters, cv=3, n_jobs=-1)\n",
    "grid.fit(X_train, y_train)\n",
    "print(grid.best_score_, grid.best_estimator_)"
   ]
  },
  {
   "cell_type": "markdown",
   "metadata": {},
   "source": [
    "### Tester tous les algorithmes"
   ]
  },
  {
   "cell_type": "code",
   "execution_count": 67,
   "metadata": {},
   "outputs": [],
   "source": [
    "def get_sklearn_algorithms(verbose = False):\n",
    "    \"\"\"\n",
    "    Explore all submodule of sklearn and fetch functions having a 'fit' attribute.\n",
    "    \n",
    "    Be careful : some functions are not models (ex : crossvalidators)\n",
    "    Parameters :\n",
    "        debug = print or not stuff on console\n",
    "    Return :\n",
    "        dict : { module : [ fit_functions] }\n",
    "    \"\"\"\n",
    "    from collections import defaultdict\n",
    "    import importlib\n",
    "    import sklearn\n",
    "    algos = defaultdict(list)\n",
    "    if verbose : print(dir(sklearn))\n",
    "    for nom_module in sklearn.__dict__['__all__']:    \n",
    "        if verbose : print(nom_module)\n",
    "        try:\n",
    "            to_import = \"sklearn.%s\"%nom_module\n",
    "            module    = importlib.import_module(to_import)\n",
    "            for nom_fonction in dir(module):\n",
    "                fonction = getattr(module, nom_fonction)\n",
    "                if hasattr(fonction, \"fit\"):\n",
    "                    if verbose : print(\" nom algorithme  = \", nom_fonction)\n",
    "                    algos[nom_module].append(fonction)                                            \n",
    "        except Exception as e:\n",
    "            if verbose : print(e)\n",
    "        if verbose: print(\"=\"*30)\n",
    "    return algos"
   ]
  },
  {
   "cell_type": "code",
   "execution_count": 68,
   "metadata": {},
   "outputs": [
    {
     "name": "stdout",
     "output_type": "stream",
     "text": [
      "['__SKLEARN_SETUP__', '__all__', '__builtins__', '__cached__', '__check_build', '__doc__', '__file__', '__loader__', '__name__', '__package__', '__path__', '__spec__', '__version__', '_config', '_isotonic', 'base', 'calibration', 'clone', 'cluster', 'compose', 'config_context', 'covariance', 'cross_decomposition', 'datasets', 'decomposition', 'discriminant_analysis', 'dummy', 'ensemble', 'exceptions', 'externals', 'feature_extraction', 'feature_selection', 'gaussian_process', 'get_config', 'impute', 'isotonic', 'kernel_approximation', 'kernel_ridge', 'linear_model', 'logger', 'logging', 'manifold', 'metrics', 'mixture', 'model_selection', 'multiclass', 'multioutput', 'naive_bayes', 'neighbors', 'neural_network', 'pipeline', 'preprocessing', 'random_projection', 're', 'semi_supervised', 'set_config', 'setup_module', 'show_versions', 'svm', 'sys', 'tree', 'utils', 'warnings']\n",
      "calibration\n",
      " nom algorithme  =  CalibratedClassifierCV\n",
      " nom algorithme  =  IsotonicRegression\n",
      " nom algorithme  =  LabelBinarizer\n",
      " nom algorithme  =  LabelEncoder\n",
      " nom algorithme  =  LinearSVC\n",
      " nom algorithme  =  _CalibratedClassifier\n",
      " nom algorithme  =  _SigmoidCalibration\n",
      "==============================\n",
      "cluster\n",
      " nom algorithme  =  AffinityPropagation\n",
      " nom algorithme  =  AgglomerativeClustering\n",
      " nom algorithme  =  Birch\n",
      " nom algorithme  =  DBSCAN\n",
      " nom algorithme  =  FeatureAgglomeration\n",
      " nom algorithme  =  KMeans\n",
      " nom algorithme  =  MeanShift\n",
      " nom algorithme  =  MiniBatchKMeans\n",
      " nom algorithme  =  SpectralBiclustering\n",
      " nom algorithme  =  SpectralClustering\n",
      " nom algorithme  =  SpectralCoclustering\n",
      "==============================\n",
      "covariance\n",
      " nom algorithme  =  EllipticEnvelope\n",
      " nom algorithme  =  EmpiricalCovariance\n",
      " nom algorithme  =  GraphLasso\n",
      " nom algorithme  =  GraphLassoCV\n",
      " nom algorithme  =  GraphicalLasso\n",
      " nom algorithme  =  GraphicalLassoCV\n",
      " nom algorithme  =  LedoitWolf\n",
      " nom algorithme  =  MinCovDet\n",
      " nom algorithme  =  OAS\n",
      " nom algorithme  =  ShrunkCovariance\n",
      "==============================\n",
      "cross_decomposition\n",
      " nom algorithme  =  CCA\n",
      " nom algorithme  =  PLSCanonical\n",
      " nom algorithme  =  PLSRegression\n",
      " nom algorithme  =  PLSSVD\n",
      "==============================\n",
      "datasets\n",
      "==============================\n",
      "decomposition\n",
      " nom algorithme  =  DictionaryLearning\n",
      " nom algorithme  =  FactorAnalysis\n",
      " nom algorithme  =  FastICA\n",
      " nom algorithme  =  IncrementalPCA\n",
      " nom algorithme  =  KernelPCA\n",
      " nom algorithme  =  LatentDirichletAllocation\n",
      " nom algorithme  =  MiniBatchDictionaryLearning\n",
      " nom algorithme  =  MiniBatchSparsePCA\n",
      " nom algorithme  =  NMF\n",
      " nom algorithme  =  PCA\n",
      " nom algorithme  =  SparseCoder\n",
      " nom algorithme  =  SparsePCA\n",
      " nom algorithme  =  TruncatedSVD\n",
      "==============================\n",
      "dummy\n",
      " nom algorithme  =  DummyClassifier\n",
      " nom algorithme  =  DummyRegressor\n",
      "==============================\n",
      "ensemble\n",
      " nom algorithme  =  AdaBoostClassifier\n",
      " nom algorithme  =  AdaBoostRegressor\n",
      " nom algorithme  =  BaggingClassifier\n",
      " nom algorithme  =  BaggingRegressor\n",
      " nom algorithme  =  ExtraTreesClassifier\n",
      " nom algorithme  =  ExtraTreesRegressor\n",
      " nom algorithme  =  GradientBoostingClassifier\n",
      " nom algorithme  =  GradientBoostingRegressor\n",
      " nom algorithme  =  IsolationForest\n",
      " nom algorithme  =  RandomForestClassifier\n",
      " nom algorithme  =  RandomForestRegressor\n",
      " nom algorithme  =  RandomTreesEmbedding\n",
      " nom algorithme  =  VotingClassifier\n",
      "==============================\n",
      "exceptions\n",
      "==============================\n",
      "externals\n",
      "==============================\n",
      "feature_extraction\n",
      " nom algorithme  =  DictVectorizer\n",
      " nom algorithme  =  FeatureHasher\n",
      "==============================\n",
      "feature_selection\n",
      " nom algorithme  =  GenericUnivariateSelect\n",
      " nom algorithme  =  RFE\n",
      " nom algorithme  =  RFECV\n",
      " nom algorithme  =  SelectFdr\n",
      " nom algorithme  =  SelectFpr\n",
      " nom algorithme  =  SelectFromModel\n",
      " nom algorithme  =  SelectFwe\n",
      " nom algorithme  =  SelectKBest\n",
      " nom algorithme  =  SelectPercentile\n",
      " nom algorithme  =  VarianceThreshold\n",
      "==============================\n",
      "gaussian_process\n",
      " nom algorithme  =  GaussianProcessClassifier\n",
      " nom algorithme  =  GaussianProcessRegressor\n",
      "==============================\n",
      "isotonic\n",
      " nom algorithme  =  IsotonicRegression\n",
      "==============================\n",
      "kernel_approximation\n",
      " nom algorithme  =  AdditiveChi2Sampler\n",
      " nom algorithme  =  Nystroem\n",
      " nom algorithme  =  RBFSampler\n",
      " nom algorithme  =  SkewedChi2Sampler\n",
      "==============================\n",
      "kernel_ridge\n",
      " nom algorithme  =  KernelRidge\n",
      "==============================\n",
      "linear_model\n",
      " nom algorithme  =  ARDRegression\n",
      " nom algorithme  =  BayesianRidge\n",
      " nom algorithme  =  ElasticNet\n",
      " nom algorithme  =  ElasticNetCV\n",
      " nom algorithme  =  HuberRegressor\n",
      " nom algorithme  =  Lars\n",
      " nom algorithme  =  LarsCV\n",
      " nom algorithme  =  Lasso\n",
      " nom algorithme  =  LassoCV\n",
      " nom algorithme  =  LassoLars\n",
      " nom algorithme  =  LassoLarsCV\n",
      " nom algorithme  =  LassoLarsIC\n",
      " nom algorithme  =  LinearRegression\n",
      " nom algorithme  =  LogisticRegression\n",
      " nom algorithme  =  LogisticRegressionCV\n",
      " nom algorithme  =  MultiTaskElasticNet\n",
      " nom algorithme  =  MultiTaskElasticNetCV\n",
      " nom algorithme  =  MultiTaskLasso\n",
      " nom algorithme  =  MultiTaskLassoCV\n",
      " nom algorithme  =  OrthogonalMatchingPursuit\n",
      " nom algorithme  =  OrthogonalMatchingPursuitCV\n",
      " nom algorithme  =  PassiveAggressiveClassifier\n",
      " nom algorithme  =  PassiveAggressiveRegressor\n",
      " nom algorithme  =  Perceptron\n",
      " nom algorithme  =  RANSACRegressor\n",
      " nom algorithme  =  RandomizedLasso\n",
      " nom algorithme  =  RandomizedLogisticRegression\n",
      " nom algorithme  =  Ridge\n",
      " nom algorithme  =  RidgeCV\n",
      " nom algorithme  =  RidgeClassifier\n",
      " nom algorithme  =  RidgeClassifierCV\n",
      " nom algorithme  =  SGDClassifier\n",
      " nom algorithme  =  SGDRegressor\n",
      " nom algorithme  =  TheilSenRegressor\n",
      "==============================\n",
      "manifold\n",
      " nom algorithme  =  Isomap\n",
      " nom algorithme  =  LocallyLinearEmbedding\n",
      " nom algorithme  =  MDS\n",
      " nom algorithme  =  SpectralEmbedding\n",
      " nom algorithme  =  TSNE\n",
      "==============================\n",
      "metrics\n",
      "==============================\n",
      "mixture\n",
      " nom algorithme  =  BayesianGaussianMixture\n",
      " nom algorithme  =  GaussianMixture\n",
      "==============================\n",
      "model_selection\n",
      " nom algorithme  =  GridSearchCV\n",
      " nom algorithme  =  RandomizedSearchCV\n",
      "==============================\n",
      "multiclass\n",
      " nom algorithme  =  LabelBinarizer\n",
      " nom algorithme  =  OneVsOneClassifier\n",
      " nom algorithme  =  OneVsRestClassifier\n",
      " nom algorithme  =  OutputCodeClassifier\n",
      " nom algorithme  =  _ConstantPredictor\n",
      "==============================\n",
      "multioutput\n",
      " nom algorithme  =  ClassifierChain\n",
      " nom algorithme  =  MultiOutputClassifier\n",
      " nom algorithme  =  MultiOutputEstimator\n",
      " nom algorithme  =  MultiOutputRegressor\n",
      " nom algorithme  =  RegressorChain\n",
      " nom algorithme  =  _BaseChain\n",
      "==============================\n",
      "naive_bayes\n",
      " nom algorithme  =  BaseDiscreteNB\n",
      " nom algorithme  =  BernoulliNB\n",
      " nom algorithme  =  ComplementNB\n",
      " nom algorithme  =  GaussianNB\n",
      " nom algorithme  =  LabelBinarizer\n",
      " nom algorithme  =  MultinomialNB\n",
      "==============================\n",
      "neighbors\n",
      " nom algorithme  =  KNeighborsClassifier\n",
      " nom algorithme  =  KNeighborsRegressor\n",
      " nom algorithme  =  KernelDensity\n",
      " nom algorithme  =  LSHForest\n",
      " nom algorithme  =  LocalOutlierFactor\n",
      " nom algorithme  =  NearestCentroid\n",
      " nom algorithme  =  NearestNeighbors\n",
      " nom algorithme  =  RadiusNeighborsClassifier\n",
      " nom algorithme  =  RadiusNeighborsRegressor\n",
      "==============================\n",
      "neural_network\n",
      " nom algorithme  =  BernoulliRBM\n",
      " nom algorithme  =  MLPClassifier\n",
      " nom algorithme  =  MLPRegressor\n",
      "==============================\n",
      "pipeline\n",
      " nom algorithme  =  FeatureUnion\n",
      " nom algorithme  =  Pipeline\n",
      "==============================\n",
      "preprocessing\n",
      " nom algorithme  =  Binarizer\n",
      " nom algorithme  =  FunctionTransformer\n",
      " nom algorithme  =  Imputer\n",
      " nom algorithme  =  KBinsDiscretizer\n",
      " nom algorithme  =  KernelCenterer\n",
      " nom algorithme  =  LabelBinarizer\n",
      " nom algorithme  =  LabelEncoder\n",
      " nom algorithme  =  MaxAbsScaler\n",
      " nom algorithme  =  MinMaxScaler\n",
      " nom algorithme  =  MultiLabelBinarizer\n",
      " nom algorithme  =  Normalizer\n",
      " nom algorithme  =  OneHotEncoder\n",
      " nom algorithme  =  OrdinalEncoder\n",
      " nom algorithme  =  PolynomialFeatures\n",
      " nom algorithme  =  PowerTransformer\n",
      " nom algorithme  =  QuantileTransformer\n",
      " nom algorithme  =  RobustScaler\n",
      " nom algorithme  =  StandardScaler\n",
      "==============================\n",
      "random_projection\n",
      " nom algorithme  =  BaseRandomProjection\n",
      " nom algorithme  =  GaussianRandomProjection\n",
      " nom algorithme  =  SparseRandomProjection\n",
      "==============================\n",
      "semi_supervised\n",
      " nom algorithme  =  LabelPropagation\n",
      " nom algorithme  =  LabelSpreading\n",
      "==============================\n",
      "svm\n",
      " nom algorithme  =  LinearSVC\n",
      " nom algorithme  =  LinearSVR\n",
      " nom algorithme  =  NuSVC\n",
      " nom algorithme  =  NuSVR\n",
      " nom algorithme  =  OneClassSVM\n",
      " nom algorithme  =  SVC\n",
      " nom algorithme  =  SVR\n",
      " nom algorithme  =  libsvm\n",
      "==============================\n",
      "tree\n",
      " nom algorithme  =  DecisionTreeClassifier\n",
      " nom algorithme  =  DecisionTreeRegressor\n",
      " nom algorithme  =  ExtraTreeClassifier\n",
      " nom algorithme  =  ExtraTreeRegressor\n",
      "==============================\n",
      "discriminant_analysis\n",
      " nom algorithme  =  LinearDiscriminantAnalysis\n",
      " nom algorithme  =  QuadraticDiscriminantAnalysis\n",
      " nom algorithme  =  StandardScaler\n",
      "==============================\n",
      "impute\n",
      " nom algorithme  =  MissingIndicator\n",
      " nom algorithme  =  SimpleImputer\n",
      "==============================\n",
      "compose\n",
      " nom algorithme  =  ColumnTransformer\n",
      " nom algorithme  =  TransformedTargetRegressor\n",
      "==============================\n",
      "clone\n",
      "No module named 'sklearn.clone'\n",
      "==============================\n",
      "get_config\n",
      "No module named 'sklearn.get_config'\n",
      "==============================\n",
      "set_config\n",
      "No module named 'sklearn.set_config'\n",
      "==============================\n",
      "config_context\n",
      "No module named 'sklearn.config_context'\n",
      "==============================\n",
      "show_versions\n",
      "No module named 'sklearn.show_versions'\n",
      "==============================\n",
      "\n",
      "===> calibration\n",
      "CalibratedClassifierCV,IsotonicRegression,LabelBinarizer,LabelEncoder,LinearSVC,_CalibratedClassifier,_SigmoidCalibration\n",
      "\n",
      "===> cluster\n",
      "AffinityPropagation,AgglomerativeClustering,Birch,DBSCAN,FeatureAgglomeration,KMeans,MeanShift,MiniBatchKMeans,SpectralBiclustering,SpectralClustering,SpectralCoclustering\n",
      "\n",
      "===> covariance\n",
      "EllipticEnvelope,EmpiricalCovariance,GraphLasso,GraphLassoCV,GraphicalLasso,GraphicalLassoCV,LedoitWolf,MinCovDet,OAS,ShrunkCovariance\n",
      "\n",
      "===> cross_decomposition\n",
      "CCA,PLSCanonical,PLSRegression,PLSSVD\n",
      "\n",
      "===> decomposition\n",
      "DictionaryLearning,FactorAnalysis,FastICA,IncrementalPCA,KernelPCA,LatentDirichletAllocation,MiniBatchDictionaryLearning,MiniBatchSparsePCA,NMF,PCA,SparseCoder,SparsePCA,TruncatedSVD\n",
      "\n",
      "===> dummy\n",
      "DummyClassifier,DummyRegressor\n",
      "\n",
      "===> ensemble\n",
      "AdaBoostClassifier,AdaBoostRegressor,BaggingClassifier,BaggingRegressor,ExtraTreesClassifier,ExtraTreesRegressor,GradientBoostingClassifier,GradientBoostingRegressor,IsolationForest,RandomForestClassifier,RandomForestRegressor,RandomTreesEmbedding,VotingClassifier\n",
      "\n",
      "===> feature_extraction\n",
      "DictVectorizer,FeatureHasher\n",
      "\n",
      "===> feature_selection\n",
      "GenericUnivariateSelect,RFE,RFECV,SelectFdr,SelectFpr,SelectFromModel,SelectFwe,SelectKBest,SelectPercentile,VarianceThreshold\n",
      "\n",
      "===> gaussian_process\n",
      "GaussianProcessClassifier,GaussianProcessRegressor\n",
      "\n",
      "===> isotonic\n",
      "IsotonicRegression\n",
      "\n",
      "===> kernel_approximation\n",
      "AdditiveChi2Sampler,Nystroem,RBFSampler,SkewedChi2Sampler\n",
      "\n",
      "===> kernel_ridge\n",
      "KernelRidge\n",
      "\n",
      "===> linear_model\n",
      "ARDRegression,BayesianRidge,ElasticNet,ElasticNetCV,HuberRegressor,Lars,LarsCV,Lasso,LassoCV,LassoLars,LassoLarsCV,LassoLarsIC,LinearRegression,LogisticRegression,LogisticRegressionCV,MultiTaskElasticNet,MultiTaskElasticNetCV,MultiTaskLasso,MultiTaskLassoCV,OrthogonalMatchingPursuit,OrthogonalMatchingPursuitCV,PassiveAggressiveClassifier,PassiveAggressiveRegressor,Perceptron,RANSACRegressor,RandomizedLasso,RandomizedLogisticRegression,Ridge,RidgeCV,RidgeClassifier,RidgeClassifierCV,SGDClassifier,SGDRegressor,TheilSenRegressor\n",
      "\n",
      "===> manifold\n",
      "Isomap,LocallyLinearEmbedding,MDS,SpectralEmbedding,TSNE\n",
      "\n",
      "===> mixture\n",
      "BayesianGaussianMixture,GaussianMixture\n",
      "\n",
      "===> model_selection\n",
      "GridSearchCV,RandomizedSearchCV\n",
      "\n",
      "===> multiclass\n",
      "LabelBinarizer,OneVsOneClassifier,OneVsRestClassifier,OutputCodeClassifier,_ConstantPredictor\n",
      "\n",
      "===> multioutput\n",
      "ClassifierChain,MultiOutputClassifier,MultiOutputEstimator,MultiOutputRegressor,RegressorChain,_BaseChain\n",
      "\n",
      "===> naive_bayes\n",
      "BaseDiscreteNB,BernoulliNB,ComplementNB,GaussianNB,LabelBinarizer,MultinomialNB\n",
      "\n",
      "===> neighbors\n",
      "KNeighborsClassifier,KNeighborsRegressor,KernelDensity,LSHForest,LocalOutlierFactor,NearestCentroid,NearestNeighbors,RadiusNeighborsClassifier,RadiusNeighborsRegressor\n",
      "\n",
      "===> neural_network\n",
      "BernoulliRBM,MLPClassifier,MLPRegressor\n",
      "\n",
      "===> pipeline\n",
      "FeatureUnion,Pipeline\n",
      "\n",
      "===> preprocessing\n",
      "Binarizer,FunctionTransformer,Imputer,KBinsDiscretizer,KernelCenterer,LabelBinarizer,LabelEncoder,MaxAbsScaler,MinMaxScaler,MultiLabelBinarizer,Normalizer,OneHotEncoder,OrdinalEncoder,PolynomialFeatures,PowerTransformer,QuantileTransformer,RobustScaler,StandardScaler\n",
      "\n",
      "===> random_projection\n",
      "BaseRandomProjection,GaussianRandomProjection,SparseRandomProjection\n",
      "\n",
      "===> semi_supervised\n",
      "LabelPropagation,LabelSpreading\n",
      "\n",
      "===> svm\n",
      "LinearSVC,LinearSVR,NuSVC,NuSVR,OneClassSVM,SVC,SVR,so\n",
      "\n",
      "===> tree\n",
      "DecisionTreeClassifier,DecisionTreeRegressor,ExtraTreeClassifier,ExtraTreeRegressor\n",
      "\n",
      "===> discriminant_analysis\n",
      "LinearDiscriminantAnalysis,QuadraticDiscriminantAnalysis,StandardScaler\n",
      "\n",
      "===> impute\n",
      "MissingIndicator,SimpleImputer\n",
      "\n",
      "===> compose\n",
      "ColumnTransformer,TransformedTargetRegressor\n"
     ]
    }
   ],
   "source": [
    "algos = get_sklearn_algorithms(True)\n",
    "for key in algos.keys():\n",
    "    print(\"\\n===>\",key)\n",
    "    algos_ = []\n",
    "    for algo in algos[key]:\n",
    "        classe_algo = str(algo)\n",
    "        nom_algo    = classe_algo[str(classe_algo).rfind(\".\")+1:str(classe_algo).rfind(\"'\")]\n",
    "        algos_.append(nom_algo)\n",
    "    print(\",\".join(algos_))"
   ]
  },
  {
   "cell_type": "code",
   "execution_count": 69,
   "metadata": {},
   "outputs": [],
   "source": [
    "import warnings\n",
    "warnings.filterwarnings(\"ignore\", category=DeprecationWarning) "
   ]
  },
  {
   "cell_type": "code",
   "execution_count": 71,
   "metadata": {
    "scrolled": true
   },
   "outputs": [
    {
     "name": "stdout",
     "output_type": "stream",
     "text": [
      "Probability calibration w\n"
     ]
    },
    {
     "name": "stderr",
     "output_type": "stream",
     "text": [
      "/anaconda3/lib/python3.6/site-packages/sklearn/model_selection/_split.py:2053: FutureWarning: You should specify a value for 'cv' instead of relying on the default value. The default value will change from 3 to 5 in version 0.22.\n",
      "  warnings.warn(CV_WARNING, FutureWarning)\n"
     ]
    },
    {
     "name": "stdout",
     "output_type": "stream",
     "text": [
      "0.8087878787878788\n",
      "==============================\n",
      "Isotonic regression model\n",
      "X should be a 1d array\n",
      "==============================\n",
      "Binarize labels in a one-\n",
      "fit() takes 2 positional arguments but 3 were give\n",
      "==============================\n",
      "Encode labels with value\n",
      "fit() takes 2 positional arguments but 3 were give\n",
      "==============================\n",
      "Linear Support Vector Cla\n",
      "0.8081818181818182\n",
      "==============================\n",
      "__init__() missing 1 required positional argument:\n",
      "==============================\n",
      "Sigmoid regression model.\n",
      "bad input shape (6700, 11)\n",
      "==============================\n",
      "Perform Affinity Propagat\n",
      "'AffinityPropagation' object has no attribute 'sco\n",
      "==============================\n",
      "Agglomerative Cluste\n",
      "'AgglomerativeClustering' object has no attribute \n",
      "==============================\n",
      "Implements the Birch clus\n",
      "'Birch' object has no attribute 'score'\n",
      "==============================\n",
      "Perform DBSCAN clustering\n",
      "'DBSCAN' object has no attribute 'score'\n",
      "==============================\n",
      "Agglomerate features.\n",
      "'FeatureAgglomeration' object has no attribute 'sc\n",
      "==============================\n",
      "K-Means clustering\n",
      "\n",
      "    R\n",
      "-28345.54234026958\n",
      "==============================\n",
      "Mean shift clustering usi\n",
      "'MeanShift' object has no attribute 'score'\n",
      "==============================\n",
      "Mini-Batch K-Means cluste\n",
      "-28479.404244696838\n",
      "==============================\n",
      "Spectral biclustering (Kl\n",
      "'SpectralBiclustering' object has no attribute 'sc\n",
      "==============================\n",
      "Apply clustering to a pro\n",
      "'SpectralClustering' object has no attribute 'scor\n",
      "==============================\n",
      "Spectral Co-Clustering al\n",
      "'SpectralCoclustering' object has no attribute 'sc\n",
      "==============================\n",
      "An object for detecting o\n",
      "0.3015151515151515\n",
      "==============================\n",
      "Maximum likelihood covari\n",
      "-15.63681607613088\n",
      "==============================\n",
      "Sparse inverse covariance\n",
      "-15.63456316766625\n",
      "==============================\n",
      "Sparse inverse covariance\n",
      "-15.633108996668259\n",
      "==============================\n",
      "Sparse inverse covariance\n",
      "-15.63456316766625\n",
      "==============================\n",
      "Sparse inverse covariance\n"
     ]
    },
    {
     "name": "stderr",
     "output_type": "stream",
     "text": [
      "/anaconda3/lib/python3.6/site-packages/sklearn/model_selection/_split.py:2053: FutureWarning: You should specify a value for 'cv' instead of relying on the default value. The default value will change from 3 to 5 in version 0.22.\n",
      "  warnings.warn(CV_WARNING, FutureWarning)\n",
      "/anaconda3/lib/python3.6/site-packages/sklearn/model_selection/_split.py:2053: FutureWarning: You should specify a value for 'cv' instead of relying on the default value. The default value will change from 3 to 5 in version 0.22.\n",
      "  warnings.warn(CV_WARNING, FutureWarning)\n"
     ]
    },
    {
     "name": "stdout",
     "output_type": "stream",
     "text": [
      "-15.633108996668259\n",
      "==============================\n",
      "LedoitWolf Estimator\n",
      "-15.633045326683536\n",
      "==============================\n",
      "Minimum Covariance Determ\n",
      "-15.63682631423943\n",
      "==============================\n",
      "Oracle Approximating Shri\n",
      "-15.63310899666826\n",
      "==============================\n",
      "Covariance estimator with\n",
      "-15.635981803081743\n",
      "==============================\n",
      "CCA Canonical Correlation\n",
      "0.26925135874572026\n",
      "==============================\n",
      "PLSCanonical implements\n",
      "0.2683456266068346\n",
      "==============================\n",
      "PLS regression\n",
      "\n",
      "    PLSRe\n",
      "0.3977560924172051\n",
      "==============================\n",
      "Partial Least Square SVD\n",
      "'PLSSVD' object has no attribute 'score'\n",
      "==============================\n",
      "Dictionary learning\n",
      "==============================\n",
      "Factor Analysis (FA)\n",
      "-15.633840635900848\n",
      "==============================\n",
      "FastICA\n",
      "'FastICA' object has no attribute 'score'\n",
      "==============================\n",
      "Incremental principal com\n"
     ]
    },
    {
     "name": "stderr",
     "output_type": "stream",
     "text": [
      "/anaconda3/lib/python3.6/site-packages/sklearn/cross_decomposition/pls_.py:291: UserWarning: Y residual constant at iteration 1\n",
      "  warnings.warn('Y residual constant at iteration %s' % k)\n",
      "/anaconda3/lib/python3.6/site-packages/sklearn/cross_decomposition/pls_.py:291: UserWarning: Y residual constant at iteration 1\n",
      "  warnings.warn('Y residual constant at iteration %s' % k)\n"
     ]
    },
    {
     "name": "stdout",
     "output_type": "stream",
     "text": [
      "'IncrementalPCA' object has no attribute 'score'\n",
      "==============================\n",
      "Kernel Principal componen\n",
      "'KernelPCA' object has no attribute 'score'\n",
      "==============================\n",
      "Latent Dirichlet Allocati\n",
      "Negative values in data passed to LatentDirichletA\n",
      "==============================\n",
      "Mini-batch dictionary lea\n",
      "'MiniBatchDictionaryLearning' object has no attrib\n",
      "==============================\n",
      "Mini-batch Sparse Princip\n",
      "'MiniBatchSparsePCA' object has no attribute 'scor\n",
      "==============================\n",
      "Non-Negative Matrix Facto\n",
      "Negative values in data passed to NMF (input X)\n",
      "==============================\n",
      "Principal component analy\n",
      "-15.636811170000675\n",
      "==============================\n",
      "__init__() missing 1 required positional argument:\n",
      "==============================\n",
      "Sparse Principal Componen\n",
      "'SparsePCA' object has no attribute 'score'\n",
      "==============================\n",
      "Dimensionality reduction\n",
      "'TruncatedSVD' object has no attribute 'score'\n",
      "==============================\n",
      "DummyClassifier is a\n",
      "0.5472727272727272\n",
      "==============================\n",
      "DummyRegressor is a\n",
      "-1.877312799902775e-05\n",
      "==============================\n",
      "An AdaBoost classifier.\n",
      "0.8481818181818181\n",
      "==============================\n",
      "An AdaBoost regressor.\n",
      "0.36862204317243213\n",
      "==============================\n",
      "A Bagging classifier.\n",
      "0.8909090909090909\n",
      "==============================\n",
      "A Bagging regressor.\n",
      "0.652651638854594\n",
      "==============================\n",
      "An extra-trees classifier\n",
      "0.8812121212121212\n",
      "==============================\n",
      "An extra-trees regressor.\n",
      "0.6633366521964235\n",
      "==============================\n",
      "Gradient Boosting for cla\n"
     ]
    },
    {
     "name": "stderr",
     "output_type": "stream",
     "text": [
      "/anaconda3/lib/python3.6/site-packages/sklearn/ensemble/forest.py:246: FutureWarning: The default value of n_estimators will change from 10 in version 0.20 to 100 in 0.22.\n",
      "  \"10 in version 0.20 to 100 in 0.22.\", FutureWarning)\n",
      "/anaconda3/lib/python3.6/site-packages/sklearn/ensemble/forest.py:246: FutureWarning: The default value of n_estimators will change from 10 in version 0.20 to 100 in 0.22.\n",
      "  \"10 in version 0.20 to 100 in 0.22.\", FutureWarning)\n"
     ]
    },
    {
     "name": "stdout",
     "output_type": "stream",
     "text": [
      "0.9172727272727272\n",
      "==============================\n",
      "Gradient Boosting for reg\n",
      "0.616719128310749\n",
      "==============================\n",
      "Isolation Forest Algorith\n"
     ]
    },
    {
     "name": "stderr",
     "output_type": "stream",
     "text": [
      "/anaconda3/lib/python3.6/site-packages/sklearn/ensemble/iforest.py:213: FutureWarning: default contamination parameter 0.1 will change in version 0.22 to \"auto\". This will change the predict method behavior.\n",
      "  FutureWarning)\n",
      "/anaconda3/lib/python3.6/site-packages/sklearn/ensemble/iforest.py:223: FutureWarning: behaviour=\"old\" is deprecated and will be removed in version 0.22. Please use behaviour=\"new\", which makes the decision_function change to match other anomaly detection algorithm API.\n",
      "  FutureWarning)\n"
     ]
    },
    {
     "name": "stdout",
     "output_type": "stream",
     "text": [
      "'IsolationForest' object has no attribute 'score'\n",
      "==============================\n",
      "A random forest classifie\n",
      "0.8787878787878788\n",
      "==============================\n",
      "A random forest regressor\n"
     ]
    },
    {
     "name": "stderr",
     "output_type": "stream",
     "text": [
      "/anaconda3/lib/python3.6/site-packages/sklearn/ensemble/forest.py:246: FutureWarning: The default value of n_estimators will change from 10 in version 0.20 to 100 in 0.22.\n",
      "  \"10 in version 0.20 to 100 in 0.22.\", FutureWarning)\n",
      "/anaconda3/lib/python3.6/site-packages/sklearn/ensemble/forest.py:246: FutureWarning: The default value of n_estimators will change from 10 in version 0.20 to 100 in 0.22.\n",
      "  \"10 in version 0.20 to 100 in 0.22.\", FutureWarning)\n"
     ]
    },
    {
     "name": "stdout",
     "output_type": "stream",
     "text": [
      "0.6441483133537775\n",
      "==============================\n",
      "An ensemble of totally ra\n",
      "'RandomTreesEmbedding' object has no attribute 'sc\n",
      "==============================\n",
      "__init__() missing 1 required positional argument:\n",
      "==============================\n",
      "Transforms lists of featu\n",
      "'numpy.ndarray' object has no attribute 'items'\n",
      "==============================\n",
      "Implements feature hashin\n",
      "'FeatureHasher' object has no attribute 'score'\n",
      "==============================\n",
      "Univariate feature select\n",
      "'GenericUnivariateSelect' object has no attribute \n",
      "==============================\n",
      "__init__() missing 1 required positional argument:\n",
      "==============================\n",
      "__init__() missing 1 required positional argument:\n",
      "==============================\n",
      "Filter\n",
      "'SelectFdr' object has no attribute 'score'\n",
      "==============================\n",
      "Filter\n",
      "'SelectFpr' object has no attribute 'score'\n",
      "==============================\n",
      "__init__() missing 1 required positional argument:\n",
      "==============================\n",
      "Filter\n",
      "'SelectFwe' object has no attribute 'score'\n",
      "==============================\n",
      "Select features according\n",
      "'SelectKBest' object has no attribute 'score'\n",
      "==============================\n",
      "Select features according\n",
      "'SelectPercentile' object has no attribute 'score'\n",
      "==============================\n",
      "Feature selector that rem\n",
      "'VarianceThreshold' object has no attribute 'score\n",
      "==============================\n",
      "Gaussian process classifi\n"
     ]
    },
    {
     "name": "stderr",
     "output_type": "stream",
     "text": [
      "/anaconda3/lib/python3.6/site-packages/sklearn/ensemble/forest.py:246: FutureWarning: The default value of n_estimators will change from 10 in version 0.20 to 100 in 0.22.\n",
      "  \"10 in version 0.20 to 100 in 0.22.\", FutureWarning)\n"
     ]
    },
    {
     "name": "stdout",
     "output_type": "stream",
     "text": [
      "0.9027272727272727\n",
      "==============================\n",
      "Gaussian process regressi\n",
      "0.5336443520954963\n",
      "==============================\n",
      "Isotonic regression model\n",
      "X should be a 1d array\n",
      "==============================\n",
      "Approximate feature map f\n",
      "'AdditiveChi2Sampler' object has no attribute 'sco\n",
      "==============================\n",
      "Approximate a kernel map\n",
      "'Nystroem' object has no attribute 'score'\n",
      "==============================\n",
      "Approximates feature map\n",
      "'RBFSampler' object has no attribute 'score'\n",
      "==============================\n",
      "Approximates feature map\n",
      "'SkewedChi2Sampler' object has no attribute 'score\n",
      "==============================\n",
      "Kernel ridge regression.\n",
      "-0.1204837597880486\n",
      "==============================\n",
      "Bayesian ARD regression.\n",
      "0.39874142669002605\n",
      "==============================\n",
      "Bayesian ridge regression\n",
      "0.39769385220166503\n",
      "==============================\n",
      "Linear regression with co\n",
      "-1.877312799902775e-05\n",
      "==============================\n",
      "Elastic Net model with it\n",
      "0.39774039350994167\n",
      "==============================\n",
      "Linear regression model t\n",
      "0.3979331118362482\n",
      "==============================\n",
      "Least Angle Regression mo\n",
      "0.3977211144420222\n",
      "==============================\n",
      "Cross-validated Least Ang\n",
      "0.3977524161141043\n",
      "==============================\n",
      "Linear Model trained with\n",
      "-1.877312799902775e-05\n",
      "==============================\n",
      "Lasso linear model with i\n"
     ]
    },
    {
     "name": "stderr",
     "output_type": "stream",
     "text": [
      "/anaconda3/lib/python3.6/site-packages/sklearn/model_selection/_split.py:2053: FutureWarning: You should specify a value for 'cv' instead of relying on the default value. The default value will change from 3 to 5 in version 0.22.\n",
      "  warnings.warn(CV_WARNING, FutureWarning)\n",
      "/anaconda3/lib/python3.6/site-packages/sklearn/model_selection/_split.py:2053: FutureWarning: You should specify a value for 'cv' instead of relying on the default value. The default value will change from 3 to 5 in version 0.22.\n",
      "  warnings.warn(CV_WARNING, FutureWarning)\n",
      "/anaconda3/lib/python3.6/site-packages/sklearn/model_selection/_split.py:2053: FutureWarning: You should specify a value for 'cv' instead of relying on the default value. The default value will change from 3 to 5 in version 0.22.\n",
      "  warnings.warn(CV_WARNING, FutureWarning)\n",
      "/anaconda3/lib/python3.6/site-packages/sklearn/model_selection/_split.py:2053: FutureWarning: You should specify a value for 'cv' instead of relying on the default value. The default value will change from 3 to 5 in version 0.22.\n",
      "  warnings.warn(CV_WARNING, FutureWarning)\n"
     ]
    },
    {
     "name": "stdout",
     "output_type": "stream",
     "text": [
      "0.39775622364054963\n",
      "==============================\n",
      "Lasso model fit with Leas\n",
      "-1.877312799902775e-05\n",
      "==============================\n",
      "Cross-validated Lasso, us\n",
      "0.3977524161141043\n",
      "==============================\n",
      "Lasso model fit with Lars\n",
      "0.39766485042237826\n",
      "==============================\n",
      "Ordinary least squar\n",
      "0.3977211144420222\n",
      "==============================\n",
      "Logistic Regression (aka\n",
      "0.8106060606060606\n",
      "==============================\n",
      "Logistic Regression CV (a\n",
      "0.8090909090909091\n",
      "==============================\n",
      "Multi-task ElasticNet mod\n",
      "For mono-task outputs, use ElasticNet\n",
      "==============================\n",
      "Multi-task L1/L2 ElasticN\n",
      "For mono-task outputs, use ElasticNetCV\n",
      "==============================\n",
      "Multi-task Lasso model tr\n",
      "For mono-task outputs, use ElasticNet\n",
      "==============================\n",
      "Multi-task Lasso model tr\n",
      "For mono-task outputs, use LassoCV\n",
      "==============================\n",
      "Orthogonal Matching Pursu\n",
      "0.04840553989213226\n",
      "==============================\n",
      "Cross-validated Orthogona\n",
      "0.26841104601872934\n",
      "==============================\n",
      "Passive Aggressive Classi\n",
      "0.7878787878787878\n",
      "==============================\n",
      "Passive Aggressive Regres\n",
      "0.05496766415811061\n",
      "==============================\n",
      "Perceptron\n",
      "\n",
      "    Read more\n",
      "0.7921212121212121\n",
      "==============================\n",
      "RANSAC (RANdom SAmple Con\n"
     ]
    },
    {
     "name": "stderr",
     "output_type": "stream",
     "text": [
      "/anaconda3/lib/python3.6/site-packages/sklearn/linear_model/logistic.py:433: FutureWarning: Default solver will be changed to 'lbfgs' in 0.22. Specify a solver to silence this warning.\n",
      "  FutureWarning)\n",
      "/anaconda3/lib/python3.6/site-packages/sklearn/model_selection/_split.py:2053: FutureWarning: You should specify a value for 'cv' instead of relying on the default value. The default value will change from 3 to 5 in version 0.22.\n",
      "  warnings.warn(CV_WARNING, FutureWarning)\n",
      "/anaconda3/lib/python3.6/site-packages/sklearn/model_selection/_split.py:2053: FutureWarning: You should specify a value for 'cv' instead of relying on the default value. The default value will change from 3 to 5 in version 0.22.\n",
      "  warnings.warn(CV_WARNING, FutureWarning)\n",
      "/anaconda3/lib/python3.6/site-packages/sklearn/linear_model/stochastic_gradient.py:166: FutureWarning: max_iter and tol parameters have been added in PassiveAggressiveClassifier in 0.19. If both are left unset, they default to max_iter=5 and tol=None. If tol is not None, max_iter defaults to max_iter=1000. From 0.21, default max_iter will be 1000, and default tol will be 1e-3.\n",
      "  FutureWarning)\n",
      "/anaconda3/lib/python3.6/site-packages/sklearn/linear_model/stochastic_gradient.py:166: FutureWarning: max_iter and tol parameters have been added in PassiveAggressiveRegressor in 0.19. If both are left unset, they default to max_iter=5 and tol=None. If tol is not None, max_iter defaults to max_iter=1000. From 0.21, default max_iter will be 1000, and default tol will be 1e-3.\n",
      "  FutureWarning)\n",
      "/anaconda3/lib/python3.6/site-packages/sklearn/linear_model/stochastic_gradient.py:166: FutureWarning: max_iter and tol parameters have been added in Perceptron in 0.19. If both are left unset, they default to max_iter=5 and tol=None. If tol is not None, max_iter defaults to max_iter=1000. From 0.21, default max_iter will be 1000, and default tol will be 1e-3.\n",
      "  FutureWarning)\n"
     ]
    },
    {
     "name": "stdout",
     "output_type": "stream",
     "text": [
      "RANSAC could not find a valid consensus set. All `\n",
      "==============================\n",
      "Randomized Lasso.\n",
      "\n",
      "    Ra\n",
      "'RandomizedLasso' object has no attribute 'score'\n",
      "==============================\n",
      "Randomized Logistic Regre\n",
      "'RandomizedLogisticRegression' object has no attri\n",
      "==============================\n",
      "Linear least squares with\n",
      "0.39771958457931794\n",
      "==============================\n",
      "Ridge regression with bui\n",
      "0.3977051095048954\n",
      "==============================\n",
      "Classifier using Ridge re\n",
      "0.8093939393939394\n",
      "==============================\n",
      "Ridge classifier with bui\n",
      "0.8090909090909091\n",
      "==============================\n",
      "Linear classifiers (SVM,\n",
      "0.78\n",
      "==============================\n",
      "Linear model fitted by mi\n",
      "0.39575696713114333\n",
      "==============================\n",
      "Theil-Sen Estimator\n"
     ]
    },
    {
     "name": "stderr",
     "output_type": "stream",
     "text": [
      "/anaconda3/lib/python3.6/site-packages/sklearn/linear_model/stochastic_gradient.py:166: FutureWarning: max_iter and tol parameters have been added in SGDClassifier in 0.19. If both are left unset, they default to max_iter=5 and tol=None. If tol is not None, max_iter defaults to max_iter=1000. From 0.21, default max_iter will be 1000, and default tol will be 1e-3.\n",
      "  FutureWarning)\n",
      "/anaconda3/lib/python3.6/site-packages/sklearn/linear_model/stochastic_gradient.py:166: FutureWarning: max_iter and tol parameters have been added in SGDRegressor in 0.19. If both are left unset, they default to max_iter=5 and tol=None. If tol is not None, max_iter defaults to max_iter=1000. From 0.21, default max_iter will be 1000, and default tol will be 1e-3.\n",
      "  FutureWarning)\n"
     ]
    },
    {
     "name": "stdout",
     "output_type": "stream",
     "text": [
      "0.3979415555058191\n",
      "==============================\n",
      "Isomap Embedding\n",
      "\n",
      "    Non\n",
      "'Isomap' object has no attribute 'score'\n",
      "==============================\n",
      "Locally Linear Embedding\n",
      "'LocallyLinearEmbedding' object has no attribute '\n",
      "==============================\n",
      "Multidimensional scaling\n",
      "'MDS' object has no attribute 'score'\n",
      "==============================\n",
      "Spectral embedding for no\n",
      "'SpectralEmbedding' object has no attribute 'score\n",
      "==============================\n",
      "t-distributed Stochastic\n",
      "'TSNE' object has no attribute 'score'\n",
      "==============================\n",
      "Variational Bayesian esti\n",
      "-15.642761904718641\n",
      "==============================\n",
      "Gaussian Mixture.\n",
      "\n",
      "    Re\n",
      "-15.636816033975029\n",
      "==============================\n",
      "__init__() missing 2 required positional arguments\n",
      "==============================\n",
      "__init__() missing 2 required positional arguments\n",
      "==============================\n",
      "Binarize labels in a one-\n",
      "fit() takes 2 positional arguments but 3 were give\n",
      "==============================\n",
      "__init__() missing 1 required positional argument:\n",
      "==============================\n",
      "__init__() missing 1 required positional argument:\n",
      "==============================\n",
      "__init__() missing 1 required positional argument:\n",
      "==============================\n",
      "'NoneType' object has no attribute 'find'\n",
      "==============================\n",
      "__init__() missing 1 required positional argument:\n",
      "==============================\n",
      "__init__() missing 1 required positional argument:\n",
      "==============================\n",
      "Can't instantiate abstract class MultiOutputEstima\n",
      "==============================\n",
      "__init__() missing 1 required positional argument:\n",
      "==============================\n",
      "__init__() missing 1 required positional argument:\n",
      "==============================\n",
      "Can't instantiate abstract class _BaseChain with a\n",
      "==============================\n",
      "Can't instantiate abstract class BaseDiscreteNB wi\n",
      "==============================\n",
      "Naive Bayes classifier fo\n",
      "0.740909090909091\n",
      "==============================\n",
      "The Complement Naive Baye\n",
      "Input X must be non-negative\n",
      "==============================\n",
      "Gaussian Naive Bayes\n",
      "0.8312121212121212\n",
      "==============================\n",
      "Binarize labels in a one-\n",
      "fit() takes 2 positional arguments but 3 were give\n",
      "==============================\n",
      "Naive Bayes classifi\n",
      "Input X must be non-negative\n",
      "==============================\n",
      "Classifier implementing t\n",
      "0.8554545454545455\n",
      "==============================\n",
      "Regression based on k-nea\n",
      "0.5372193237484566\n",
      "==============================\n",
      "Kernel Density Estimation\n",
      "-55200.60282750494\n",
      "==============================\n",
      "Performs approximate near\n",
      "'LSHForest' object has no attribute 'score'\n",
      "==============================\n",
      "Unsupervised Outlier Dete\n"
     ]
    },
    {
     "name": "stderr",
     "output_type": "stream",
     "text": [
      "/anaconda3/lib/python3.6/site-packages/sklearn/random_projection.py:379: DataDimensionalityWarning: The number of components is higher than the number of features: n_features < n_components (11 < 32).The dimensionality of the problem will not be reduced.\n",
      "  DataDimensionalityWarning)\n",
      "/anaconda3/lib/python3.6/site-packages/sklearn/random_projection.py:379: DataDimensionalityWarning: The number of components is higher than the number of features: n_features < n_components (11 < 32).The dimensionality of the problem will not be reduced.\n",
      "  DataDimensionalityWarning)\n",
      "/anaconda3/lib/python3.6/site-packages/sklearn/random_projection.py:379: DataDimensionalityWarning: The number of components is higher than the number of features: n_features < n_components (11 < 32).The dimensionality of the problem will not be reduced.\n",
      "  DataDimensionalityWarning)\n",
      "/anaconda3/lib/python3.6/site-packages/sklearn/random_projection.py:379: DataDimensionalityWarning: The number of components is higher than the number of features: n_features < n_components (11 < 32).The dimensionality of the problem will not be reduced.\n",
      "  DataDimensionalityWarning)\n",
      "/anaconda3/lib/python3.6/site-packages/sklearn/random_projection.py:379: DataDimensionalityWarning: The number of components is higher than the number of features: n_features < n_components (11 < 32).The dimensionality of the problem will not be reduced.\n",
      "  DataDimensionalityWarning)\n",
      "/anaconda3/lib/python3.6/site-packages/sklearn/random_projection.py:379: DataDimensionalityWarning: The number of components is higher than the number of features: n_features < n_components (11 < 32).The dimensionality of the problem will not be reduced.\n",
      "  DataDimensionalityWarning)\n",
      "/anaconda3/lib/python3.6/site-packages/sklearn/random_projection.py:379: DataDimensionalityWarning: The number of components is higher than the number of features: n_features < n_components (11 < 32).The dimensionality of the problem will not be reduced.\n",
      "  DataDimensionalityWarning)\n",
      "/anaconda3/lib/python3.6/site-packages/sklearn/random_projection.py:379: DataDimensionalityWarning: The number of components is higher than the number of features: n_features < n_components (11 < 32).The dimensionality of the problem will not be reduced.\n",
      "  DataDimensionalityWarning)\n",
      "/anaconda3/lib/python3.6/site-packages/sklearn/random_projection.py:379: DataDimensionalityWarning: The number of components is higher than the number of features: n_features < n_components (11 < 32).The dimensionality of the problem will not be reduced.\n",
      "  DataDimensionalityWarning)\n",
      "/anaconda3/lib/python3.6/site-packages/sklearn/random_projection.py:379: DataDimensionalityWarning: The number of components is higher than the number of features: n_features < n_components (11 < 32).The dimensionality of the problem will not be reduced.\n",
      "  DataDimensionalityWarning)\n",
      "/anaconda3/lib/python3.6/site-packages/sklearn/neighbors/lof.py:236: FutureWarning: default contamination parameter 0.1 will change in version 0.22 to \"auto\". This will change the predict method behavior.\n",
      "  FutureWarning)\n"
     ]
    },
    {
     "name": "stdout",
     "output_type": "stream",
     "text": [
      "'LocalOutlierFactor' object has no attribute 'scor\n",
      "==============================\n",
      "Nearest centroid classifi\n",
      "0.7927272727272727\n",
      "==============================\n",
      "Unsupervised learner for\n",
      "'NearestNeighbors' object has no attribute 'score'\n",
      "==============================\n",
      "Classifier implementing a\n",
      "Algo de classification\n",
      "==============================\n",
      "Regression based on neigh\n",
      "-0.5626667728702859\n",
      "==============================\n",
      "Bernoulli Restricted Bolt\n",
      "'BernoulliRBM' object has no attribute 'score'\n",
      "==============================\n",
      "Multi-layer Perceptron cl\n"
     ]
    },
    {
     "name": "stderr",
     "output_type": "stream",
     "text": [
      "/anaconda3/lib/python3.6/site-packages/sklearn/neural_network/multilayer_perceptron.py:562: ConvergenceWarning: Stochastic Optimizer: Maximum iterations (200) reached and the optimization hasn't converged yet.\n",
      "  % self.max_iter, ConvergenceWarning)\n"
     ]
    },
    {
     "name": "stdout",
     "output_type": "stream",
     "text": [
      "0.9536363636363636\n",
      "==============================\n",
      "Multi-layer Perceptron re\n",
      "0.6960229833973212\n",
      "==============================\n",
      "__init__() missing 1 required positional argument:\n",
      "==============================\n",
      "__init__() missing 1 required positional argument:\n",
      "==============================\n",
      "Binarize data (set featur\n",
      "'Binarizer' object has no attribute 'score'\n",
      "==============================\n",
      "Constructs a transformer\n",
      "'FunctionTransformer' object has no attribute 'sco\n",
      "==============================\n",
      "Imputation transformer fo\n",
      "'Imputer' object has no attribute 'score'\n",
      "==============================\n",
      "Bin continuous data into\n",
      "'KBinsDiscretizer' object has no attribute 'score'\n",
      "==============================\n",
      "Center a kernel matrix\n",
      "'KernelCenterer' object has no attribute 'score'\n",
      "==============================\n",
      "Binarize labels in a one-\n",
      "fit() takes 2 positional arguments but 3 were give\n",
      "==============================\n",
      "Encode labels with value\n",
      "fit() takes 2 positional arguments but 3 were give\n",
      "==============================\n",
      "Scale each feature by its\n",
      "'MaxAbsScaler' object has no attribute 'score'\n",
      "==============================\n",
      "Transforms features by sc\n",
      "'MinMaxScaler' object has no attribute 'score'\n",
      "==============================\n",
      "Transform between iterabl\n",
      "fit() takes 2 positional arguments but 3 were give\n",
      "==============================\n",
      "Normalize samples individ\n",
      "'Normalizer' object has no attribute 'score'\n",
      "==============================\n",
      "Encode categorical intege\n",
      "OneHotEncoder in legacy mode cannot handle categor\n",
      "==============================\n",
      "Encode categorical featur\n",
      "'OrdinalEncoder' object has no attribute 'score'\n",
      "==============================\n",
      "Generate polynomial and i\n",
      "'PolynomialFeatures' object has no attribute 'scor\n",
      "==============================\n",
      "Apply a power transform f\n",
      "'PowerTransformer' object has no attribute 'score'\n",
      "==============================\n",
      "Transform features using\n",
      "'QuantileTransformer' object has no attribute 'sco\n",
      "==============================\n",
      "Scale features using stat\n",
      "'RobustScaler' object has no attribute 'score'\n",
      "==============================\n",
      "Standardize features by r\n"
     ]
    },
    {
     "name": "stderr",
     "output_type": "stream",
     "text": [
      "/anaconda3/lib/python3.6/site-packages/sklearn/preprocessing/_function_transformer.py:98: FutureWarning: The default validate=True will be replaced by validate=False in 0.22.\n",
      "  \"validate=False in 0.22.\", FutureWarning)\n",
      "/anaconda3/lib/python3.6/site-packages/sklearn/preprocessing/_encoders.py:368: FutureWarning: The handling of integer data will change in version 0.22. Currently, the categories are determined based on the range [0, max(values)], while in the future they will be determined based on the unique values.\n",
      "If you want the future behaviour and silence this warning, you can specify \"categories='auto'\".\n",
      "In case you used a LabelEncoder before this OneHotEncoder to convert the categories to integers, then you can now use the OneHotEncoder directly.\n",
      "  warnings.warn(msg, FutureWarning)\n"
     ]
    },
    {
     "name": "stdout",
     "output_type": "stream",
     "text": [
      "'StandardScaler' object has no attribute 'score'\n",
      "==============================\n",
      "Can't instantiate abstract class BaseRandomProject\n",
      "==============================\n",
      "Reduce dimensionality thr\n",
      "eps=0.100000 and n_samples=6700 lead to a target d\n",
      "==============================\n",
      "Reduce dimensionality thr\n",
      "eps=0.100000 and n_samples=6700 lead to a target d\n",
      "==============================\n",
      "Label Propagation classif\n",
      "0.8118181818181818\n",
      "==============================\n",
      "LabelSpreading model for\n",
      "0.8115151515151515\n",
      "==============================\n",
      "Linear Support Vector Cla\n",
      "0.8081818181818182\n",
      "==============================\n",
      "Linear Support Vector Reg\n",
      "0.3941262614447242\n",
      "==============================\n",
      "Nu-Support Vector Classif\n"
     ]
    },
    {
     "name": "stderr",
     "output_type": "stream",
     "text": [
      "/anaconda3/lib/python3.6/site-packages/sklearn/svm/base.py:931: ConvergenceWarning: Liblinear failed to converge, increase the number of iterations.\n",
      "  \"the number of iterations.\", ConvergenceWarning)\n"
     ]
    },
    {
     "name": "stdout",
     "output_type": "stream",
     "text": [
      "0.9012121212121212\n",
      "==============================\n",
      "Nu Support Vector Regress\n",
      "0.6940594053481566\n",
      "==============================\n",
      "Unsupervised Outlier Dete\n",
      "'OneClassSVM' object has no attribute 'score'\n",
      "==============================\n",
      "C-Support Vector Classifi\n",
      "0.9551515151515152\n",
      "==============================\n",
      "Epsilon-Support Vector Re\n",
      "0.6944835227128058\n",
      "==============================\n",
      "'module' object is not callable\n",
      "==============================\n",
      "A decision tree classifie\n",
      "0.8381818181818181\n",
      "==============================\n",
      "A decision tree regressor\n",
      "0.2824086980763868\n",
      "==============================\n",
      "An extremely randomized t\n",
      "0.7463636363636363\n",
      "==============================\n",
      "An extremely randomized t\n",
      "0.22063801824047147\n",
      "==============================\n",
      "Linear Discriminant Analy\n",
      "0.8093939393939394\n",
      "==============================\n",
      "Quadratic Discriminant An\n",
      "0.8757575757575757\n",
      "==============================\n",
      "Standardize features by r\n",
      "'StandardScaler' object has no attribute 'score'\n",
      "==============================\n",
      "Binary indicators for mis\n",
      "'MissingIndicator' object has no attribute 'score'\n",
      "==============================\n",
      "Imputation transformer fo\n",
      "'SimpleImputer' object has no attribute 'score'\n",
      "==============================\n",
      "__init__() missing 1 required positional argument:\n",
      "==============================\n",
      "Meta-estimator to regress\n",
      "0.3977211144420222\n",
      "==============================\n"
     ]
    }
   ],
   "source": [
    "performances               = {}\n",
    "modeles_a_tester           = []\n",
    "classes_de_models_a_tester = algos.keys()\n",
    "best_algorithm = 0\n",
    "best_perf = 0\n",
    "for classe_de_models in classes_de_models_a_tester:\n",
    "    modeles_a_tester.extend(algos[classe_de_models])\n",
    "\n",
    "for pointeur_vers_algo in modeles_a_tester:\n",
    "    try:\n",
    "        algorithme = pointeur_vers_algo()\n",
    "        doc        = algorithme.__doc__\n",
    "        name       = doc[:min(doc.find(\":\"), 25)].strip()\n",
    "        print(name)\n",
    "        if name != \"Dictionary learning\":\n",
    "            algorithme.fit(X_train, y_train)\n",
    "            performance = algorithme.score(X_test, y_test)\n",
    "            print(performance)\n",
    "            if performance > best_perf:\n",
    "                best_algorithm = algorithme\n",
    "                best_perf = performance\n",
    "\n",
    "            if 0<performance and performance<1:\n",
    "                performances[name] = [performance]\n",
    "    except Exception as e:\n",
    "        if \"label\" in str(e): print(\"Algo de classification\")\n",
    "        else                : print(str(e)[:50])\n",
    "    print(\"=\"*30)\n"
   ]
  },
  {
   "cell_type": "code",
   "execution_count": 72,
   "metadata": {},
   "outputs": [
    {
     "data": {
      "text/plain": [
       "SVC(C=1.0, cache_size=200, class_weight=None, coef0=0.0,\n",
       "  decision_function_shape='ovr', degree=3, gamma='auto_deprecated',\n",
       "  kernel='rbf', max_iter=-1, probability=False, random_state=None,\n",
       "  shrinking=True, tol=0.001, verbose=False)"
      ]
     },
     "execution_count": 72,
     "metadata": {},
     "output_type": "execute_result"
    }
   ],
   "source": [
    "best_algorithm"
   ]
  },
  {
   "cell_type": "code",
   "execution_count": 73,
   "metadata": {
    "scrolled": true
   },
   "outputs": [
    {
     "data": {
      "text/plain": [
       "{'Probability calibration w': [0.8087878787878788],\n",
       " 'Linear Support Vector Cla': [0.8081818181818182],\n",
       " 'An object for detecting o': [0.3015151515151515],\n",
       " 'CCA Canonical Correlation': [0.26925135874572026],\n",
       " 'PLSCanonical implements': [0.2683456266068346],\n",
       " 'PLS regression\\n\\n    PLSRe': [0.3977560924172051],\n",
       " 'DummyClassifier is a': [0.5472727272727272],\n",
       " 'An AdaBoost classifier.': [0.8481818181818181],\n",
       " 'An AdaBoost regressor.': [0.36862204317243213],\n",
       " 'A Bagging classifier.': [0.8909090909090909],\n",
       " 'A Bagging regressor.': [0.652651638854594],\n",
       " 'An extra-trees classifier': [0.8812121212121212],\n",
       " 'An extra-trees regressor.': [0.6633366521964235],\n",
       " 'Gradient Boosting for cla': [0.9172727272727272],\n",
       " 'Gradient Boosting for reg': [0.616719128310749],\n",
       " 'A random forest classifie': [0.8787878787878788],\n",
       " 'A random forest regressor': [0.6441483133537775],\n",
       " 'Gaussian process classifi': [0.9027272727272727],\n",
       " 'Gaussian process regressi': [0.5336443520954963],\n",
       " 'Bayesian ARD regression.': [0.39874142669002605],\n",
       " 'Bayesian ridge regression': [0.39769385220166503],\n",
       " 'Elastic Net model with it': [0.39774039350994167],\n",
       " 'Linear regression model t': [0.3979331118362482],\n",
       " 'Least Angle Regression mo': [0.3977211144420222],\n",
       " 'Cross-validated Least Ang': [0.3977524161141043],\n",
       " 'Lasso linear model with i': [0.39775622364054963],\n",
       " 'Cross-validated Lasso, us': [0.3977524161141043],\n",
       " 'Lasso model fit with Lars': [0.39766485042237826],\n",
       " 'Ordinary least squar': [0.3977211144420222],\n",
       " 'Logistic Regression (aka': [0.8106060606060606],\n",
       " 'Logistic Regression CV (a': [0.8090909090909091],\n",
       " 'Orthogonal Matching Pursu': [0.04840553989213226],\n",
       " 'Cross-validated Orthogona': [0.26841104601872934],\n",
       " 'Passive Aggressive Classi': [0.7878787878787878],\n",
       " 'Passive Aggressive Regres': [0.05496766415811061],\n",
       " 'Perceptron\\n\\n    Read more': [0.7921212121212121],\n",
       " 'Linear least squares with': [0.39771958457931794],\n",
       " 'Ridge regression with bui': [0.3977051095048954],\n",
       " 'Classifier using Ridge re': [0.8093939393939394],\n",
       " 'Ridge classifier with bui': [0.8090909090909091],\n",
       " 'Linear classifiers (SVM,': [0.78],\n",
       " 'Linear model fitted by mi': [0.39575696713114333],\n",
       " 'Theil-Sen Estimator': [0.3979415555058191],\n",
       " 'Naive Bayes classifier fo': [0.740909090909091],\n",
       " 'Gaussian Naive Bayes': [0.8312121212121212],\n",
       " 'Classifier implementing t': [0.8554545454545455],\n",
       " 'Regression based on k-nea': [0.5372193237484566],\n",
       " 'Nearest centroid classifi': [0.7927272727272727],\n",
       " 'Multi-layer Perceptron cl': [0.9536363636363636],\n",
       " 'Multi-layer Perceptron re': [0.6960229833973212],\n",
       " 'Label Propagation classif': [0.8118181818181818],\n",
       " 'LabelSpreading model for': [0.8115151515151515],\n",
       " 'Linear Support Vector Reg': [0.3941262614447242],\n",
       " 'Nu-Support Vector Classif': [0.9012121212121212],\n",
       " 'Nu Support Vector Regress': [0.6940594053481566],\n",
       " 'C-Support Vector Classifi': [0.9551515151515152],\n",
       " 'Epsilon-Support Vector Re': [0.6944835227128058],\n",
       " 'A decision tree classifie': [0.8381818181818181],\n",
       " 'A decision tree regressor': [0.2824086980763868],\n",
       " 'An extremely randomized t': [0.22063801824047147],\n",
       " 'Linear Discriminant Analy': [0.8093939393939394],\n",
       " 'Quadratic Discriminant An': [0.8757575757575757],\n",
       " 'Meta-estimator to regress': [0.3977211144420222]}"
      ]
     },
     "execution_count": 73,
     "metadata": {},
     "output_type": "execute_result"
    }
   ],
   "source": [
    "performances"
   ]
  },
  {
   "cell_type": "code",
   "execution_count": 74,
   "metadata": {},
   "outputs": [],
   "source": [
    "import pandas as pd\n",
    "df = pd.DataFrame(performances).T"
   ]
  },
  {
   "cell_type": "code",
   "execution_count": 75,
   "metadata": {},
   "outputs": [],
   "source": [
    "col_name = \"performance\"\n",
    "df.columns = [col_name]"
   ]
  },
  {
   "cell_type": "code",
   "execution_count": 76,
   "metadata": {},
   "outputs": [],
   "source": [
    "df = df.sort_values(col_name)"
   ]
  },
  {
   "cell_type": "code",
   "execution_count": 77,
   "metadata": {
    "scrolled": true
   },
   "outputs": [
    {
     "data": {
      "text/html": [
       "<div>\n",
       "<style scoped>\n",
       "    .dataframe tbody tr th:only-of-type {\n",
       "        vertical-align: middle;\n",
       "    }\n",
       "\n",
       "    .dataframe tbody tr th {\n",
       "        vertical-align: top;\n",
       "    }\n",
       "\n",
       "    .dataframe thead th {\n",
       "        text-align: right;\n",
       "    }\n",
       "</style>\n",
       "<table border=\"1\" class=\"dataframe\">\n",
       "  <thead>\n",
       "    <tr style=\"text-align: right;\">\n",
       "      <th></th>\n",
       "      <th>performance</th>\n",
       "    </tr>\n",
       "  </thead>\n",
       "  <tbody>\n",
       "    <tr>\n",
       "      <th>Orthogonal Matching Pursu</th>\n",
       "      <td>0.048406</td>\n",
       "    </tr>\n",
       "    <tr>\n",
       "      <th>Passive Aggressive Regres</th>\n",
       "      <td>0.054968</td>\n",
       "    </tr>\n",
       "    <tr>\n",
       "      <th>An extremely randomized t</th>\n",
       "      <td>0.220638</td>\n",
       "    </tr>\n",
       "    <tr>\n",
       "      <th>PLSCanonical implements</th>\n",
       "      <td>0.268346</td>\n",
       "    </tr>\n",
       "    <tr>\n",
       "      <th>Cross-validated Orthogona</th>\n",
       "      <td>0.268411</td>\n",
       "    </tr>\n",
       "    <tr>\n",
       "      <th>CCA Canonical Correlation</th>\n",
       "      <td>0.269251</td>\n",
       "    </tr>\n",
       "    <tr>\n",
       "      <th>A decision tree regressor</th>\n",
       "      <td>0.282409</td>\n",
       "    </tr>\n",
       "    <tr>\n",
       "      <th>An object for detecting o</th>\n",
       "      <td>0.301515</td>\n",
       "    </tr>\n",
       "    <tr>\n",
       "      <th>An AdaBoost regressor.</th>\n",
       "      <td>0.368622</td>\n",
       "    </tr>\n",
       "    <tr>\n",
       "      <th>Linear Support Vector Reg</th>\n",
       "      <td>0.394126</td>\n",
       "    </tr>\n",
       "    <tr>\n",
       "      <th>Linear model fitted by mi</th>\n",
       "      <td>0.395757</td>\n",
       "    </tr>\n",
       "    <tr>\n",
       "      <th>Lasso model fit with Lars</th>\n",
       "      <td>0.397665</td>\n",
       "    </tr>\n",
       "    <tr>\n",
       "      <th>Bayesian ridge regression</th>\n",
       "      <td>0.397694</td>\n",
       "    </tr>\n",
       "    <tr>\n",
       "      <th>Ridge regression with bui</th>\n",
       "      <td>0.397705</td>\n",
       "    </tr>\n",
       "    <tr>\n",
       "      <th>Linear least squares with</th>\n",
       "      <td>0.397720</td>\n",
       "    </tr>\n",
       "    <tr>\n",
       "      <th>Ordinary least squar</th>\n",
       "      <td>0.397721</td>\n",
       "    </tr>\n",
       "    <tr>\n",
       "      <th>Least Angle Regression mo</th>\n",
       "      <td>0.397721</td>\n",
       "    </tr>\n",
       "    <tr>\n",
       "      <th>Meta-estimator to regress</th>\n",
       "      <td>0.397721</td>\n",
       "    </tr>\n",
       "    <tr>\n",
       "      <th>Elastic Net model with it</th>\n",
       "      <td>0.397740</td>\n",
       "    </tr>\n",
       "    <tr>\n",
       "      <th>Cross-validated Least Ang</th>\n",
       "      <td>0.397752</td>\n",
       "    </tr>\n",
       "    <tr>\n",
       "      <th>Cross-validated Lasso, us</th>\n",
       "      <td>0.397752</td>\n",
       "    </tr>\n",
       "    <tr>\n",
       "      <th>PLS regression\\n\\n    PLSRe</th>\n",
       "      <td>0.397756</td>\n",
       "    </tr>\n",
       "    <tr>\n",
       "      <th>Lasso linear model with i</th>\n",
       "      <td>0.397756</td>\n",
       "    </tr>\n",
       "    <tr>\n",
       "      <th>Linear regression model t</th>\n",
       "      <td>0.397933</td>\n",
       "    </tr>\n",
       "    <tr>\n",
       "      <th>Theil-Sen Estimator</th>\n",
       "      <td>0.397942</td>\n",
       "    </tr>\n",
       "    <tr>\n",
       "      <th>Bayesian ARD regression.</th>\n",
       "      <td>0.398741</td>\n",
       "    </tr>\n",
       "    <tr>\n",
       "      <th>Gaussian process regressi</th>\n",
       "      <td>0.533644</td>\n",
       "    </tr>\n",
       "    <tr>\n",
       "      <th>Regression based on k-nea</th>\n",
       "      <td>0.537219</td>\n",
       "    </tr>\n",
       "    <tr>\n",
       "      <th>DummyClassifier is a</th>\n",
       "      <td>0.547273</td>\n",
       "    </tr>\n",
       "    <tr>\n",
       "      <th>Gradient Boosting for reg</th>\n",
       "      <td>0.616719</td>\n",
       "    </tr>\n",
       "    <tr>\n",
       "      <th>...</th>\n",
       "      <td>...</td>\n",
       "    </tr>\n",
       "    <tr>\n",
       "      <th>Nu Support Vector Regress</th>\n",
       "      <td>0.694059</td>\n",
       "    </tr>\n",
       "    <tr>\n",
       "      <th>Epsilon-Support Vector Re</th>\n",
       "      <td>0.694484</td>\n",
       "    </tr>\n",
       "    <tr>\n",
       "      <th>Multi-layer Perceptron re</th>\n",
       "      <td>0.696023</td>\n",
       "    </tr>\n",
       "    <tr>\n",
       "      <th>Naive Bayes classifier fo</th>\n",
       "      <td>0.740909</td>\n",
       "    </tr>\n",
       "    <tr>\n",
       "      <th>Linear classifiers (SVM,</th>\n",
       "      <td>0.780000</td>\n",
       "    </tr>\n",
       "    <tr>\n",
       "      <th>Passive Aggressive Classi</th>\n",
       "      <td>0.787879</td>\n",
       "    </tr>\n",
       "    <tr>\n",
       "      <th>Perceptron\\n\\n    Read more</th>\n",
       "      <td>0.792121</td>\n",
       "    </tr>\n",
       "    <tr>\n",
       "      <th>Nearest centroid classifi</th>\n",
       "      <td>0.792727</td>\n",
       "    </tr>\n",
       "    <tr>\n",
       "      <th>Linear Support Vector Cla</th>\n",
       "      <td>0.808182</td>\n",
       "    </tr>\n",
       "    <tr>\n",
       "      <th>Probability calibration w</th>\n",
       "      <td>0.808788</td>\n",
       "    </tr>\n",
       "    <tr>\n",
       "      <th>Ridge classifier with bui</th>\n",
       "      <td>0.809091</td>\n",
       "    </tr>\n",
       "    <tr>\n",
       "      <th>Logistic Regression CV (a</th>\n",
       "      <td>0.809091</td>\n",
       "    </tr>\n",
       "    <tr>\n",
       "      <th>Linear Discriminant Analy</th>\n",
       "      <td>0.809394</td>\n",
       "    </tr>\n",
       "    <tr>\n",
       "      <th>Classifier using Ridge re</th>\n",
       "      <td>0.809394</td>\n",
       "    </tr>\n",
       "    <tr>\n",
       "      <th>Logistic Regression (aka</th>\n",
       "      <td>0.810606</td>\n",
       "    </tr>\n",
       "    <tr>\n",
       "      <th>LabelSpreading model for</th>\n",
       "      <td>0.811515</td>\n",
       "    </tr>\n",
       "    <tr>\n",
       "      <th>Label Propagation classif</th>\n",
       "      <td>0.811818</td>\n",
       "    </tr>\n",
       "    <tr>\n",
       "      <th>Gaussian Naive Bayes</th>\n",
       "      <td>0.831212</td>\n",
       "    </tr>\n",
       "    <tr>\n",
       "      <th>A decision tree classifie</th>\n",
       "      <td>0.838182</td>\n",
       "    </tr>\n",
       "    <tr>\n",
       "      <th>An AdaBoost classifier.</th>\n",
       "      <td>0.848182</td>\n",
       "    </tr>\n",
       "    <tr>\n",
       "      <th>Classifier implementing t</th>\n",
       "      <td>0.855455</td>\n",
       "    </tr>\n",
       "    <tr>\n",
       "      <th>Quadratic Discriminant An</th>\n",
       "      <td>0.875758</td>\n",
       "    </tr>\n",
       "    <tr>\n",
       "      <th>A random forest classifie</th>\n",
       "      <td>0.878788</td>\n",
       "    </tr>\n",
       "    <tr>\n",
       "      <th>An extra-trees classifier</th>\n",
       "      <td>0.881212</td>\n",
       "    </tr>\n",
       "    <tr>\n",
       "      <th>A Bagging classifier.</th>\n",
       "      <td>0.890909</td>\n",
       "    </tr>\n",
       "    <tr>\n",
       "      <th>Nu-Support Vector Classif</th>\n",
       "      <td>0.901212</td>\n",
       "    </tr>\n",
       "    <tr>\n",
       "      <th>Gaussian process classifi</th>\n",
       "      <td>0.902727</td>\n",
       "    </tr>\n",
       "    <tr>\n",
       "      <th>Gradient Boosting for cla</th>\n",
       "      <td>0.917273</td>\n",
       "    </tr>\n",
       "    <tr>\n",
       "      <th>Multi-layer Perceptron cl</th>\n",
       "      <td>0.953636</td>\n",
       "    </tr>\n",
       "    <tr>\n",
       "      <th>C-Support Vector Classifi</th>\n",
       "      <td>0.955152</td>\n",
       "    </tr>\n",
       "  </tbody>\n",
       "</table>\n",
       "<p>63 rows × 1 columns</p>\n",
       "</div>"
      ],
      "text/plain": [
       "                             performance\n",
       "Orthogonal Matching Pursu       0.048406\n",
       "Passive Aggressive Regres       0.054968\n",
       "An extremely randomized t       0.220638\n",
       "PLSCanonical implements         0.268346\n",
       "Cross-validated Orthogona       0.268411\n",
       "CCA Canonical Correlation       0.269251\n",
       "A decision tree regressor       0.282409\n",
       "An object for detecting o       0.301515\n",
       "An AdaBoost regressor.          0.368622\n",
       "Linear Support Vector Reg       0.394126\n",
       "Linear model fitted by mi       0.395757\n",
       "Lasso model fit with Lars       0.397665\n",
       "Bayesian ridge regression       0.397694\n",
       "Ridge regression with bui       0.397705\n",
       "Linear least squares with       0.397720\n",
       "Ordinary least squar            0.397721\n",
       "Least Angle Regression mo       0.397721\n",
       "Meta-estimator to regress       0.397721\n",
       "Elastic Net model with it       0.397740\n",
       "Cross-validated Least Ang       0.397752\n",
       "Cross-validated Lasso, us       0.397752\n",
       "PLS regression\\n\\n    PLSRe     0.397756\n",
       "Lasso linear model with i       0.397756\n",
       "Linear regression model t       0.397933\n",
       "Theil-Sen Estimator             0.397942\n",
       "Bayesian ARD regression.        0.398741\n",
       "Gaussian process regressi       0.533644\n",
       "Regression based on k-nea       0.537219\n",
       "DummyClassifier is a            0.547273\n",
       "Gradient Boosting for reg       0.616719\n",
       "...                                  ...\n",
       "Nu Support Vector Regress       0.694059\n",
       "Epsilon-Support Vector Re       0.694484\n",
       "Multi-layer Perceptron re       0.696023\n",
       "Naive Bayes classifier fo       0.740909\n",
       "Linear classifiers (SVM,        0.780000\n",
       "Passive Aggressive Classi       0.787879\n",
       "Perceptron\\n\\n    Read more     0.792121\n",
       "Nearest centroid classifi       0.792727\n",
       "Linear Support Vector Cla       0.808182\n",
       "Probability calibration w       0.808788\n",
       "Ridge classifier with bui       0.809091\n",
       "Logistic Regression CV (a       0.809091\n",
       "Linear Discriminant Analy       0.809394\n",
       "Classifier using Ridge re       0.809394\n",
       "Logistic Regression (aka        0.810606\n",
       "LabelSpreading model for        0.811515\n",
       "Label Propagation classif       0.811818\n",
       "Gaussian Naive Bayes            0.831212\n",
       "A decision tree classifie       0.838182\n",
       "An AdaBoost classifier.         0.848182\n",
       "Classifier implementing t       0.855455\n",
       "Quadratic Discriminant An       0.875758\n",
       "A random forest classifie       0.878788\n",
       "An extra-trees classifier       0.881212\n",
       "A Bagging classifier.           0.890909\n",
       "Nu-Support Vector Classif       0.901212\n",
       "Gaussian process classifi       0.902727\n",
       "Gradient Boosting for cla       0.917273\n",
       "Multi-layer Perceptron cl       0.953636\n",
       "C-Support Vector Classifi       0.955152\n",
       "\n",
       "[63 rows x 1 columns]"
      ]
     },
     "execution_count": 77,
     "metadata": {},
     "output_type": "execute_result"
    }
   ],
   "source": [
    "df"
   ]
  },
  {
   "cell_type": "code",
   "execution_count": 78,
   "metadata": {},
   "outputs": [],
   "source": [
    "liste_des_performances = df.performance.values\n",
    "gains = [0]\n",
    "for indice, performance in enumerate(liste_des_performances):\n",
    "    if indice>0:\n",
    "        previous_value = liste_des_performances[indice-1]\n",
    "        current_value  = liste_des_performances[indice]\n",
    "        gain = (current_value - previous_value) / previous_value\n",
    "        gains.append(round(gain*100, 2))\n",
    "df[\"gains\"] = gains"
   ]
  },
  {
   "cell_type": "code",
   "execution_count": 79,
   "metadata": {},
   "outputs": [],
   "source": [
    "df = df.drop(\"gains\", axis=1)"
   ]
  },
  {
   "cell_type": "code",
   "execution_count": 80,
   "metadata": {
    "scrolled": true
   },
   "outputs": [
    {
     "data": {
      "text/html": [
       "<div>\n",
       "<style scoped>\n",
       "    .dataframe tbody tr th:only-of-type {\n",
       "        vertical-align: middle;\n",
       "    }\n",
       "\n",
       "    .dataframe tbody tr th {\n",
       "        vertical-align: top;\n",
       "    }\n",
       "\n",
       "    .dataframe thead th {\n",
       "        text-align: right;\n",
       "    }\n",
       "</style>\n",
       "<table border=\"1\" class=\"dataframe\">\n",
       "  <thead>\n",
       "    <tr style=\"text-align: right;\">\n",
       "      <th></th>\n",
       "      <th>performance</th>\n",
       "    </tr>\n",
       "  </thead>\n",
       "  <tbody>\n",
       "    <tr>\n",
       "      <th>Orthogonal Matching Pursu</th>\n",
       "      <td>0.048406</td>\n",
       "    </tr>\n",
       "    <tr>\n",
       "      <th>Passive Aggressive Regres</th>\n",
       "      <td>0.054968</td>\n",
       "    </tr>\n",
       "    <tr>\n",
       "      <th>An extremely randomized t</th>\n",
       "      <td>0.220638</td>\n",
       "    </tr>\n",
       "    <tr>\n",
       "      <th>PLSCanonical implements</th>\n",
       "      <td>0.268346</td>\n",
       "    </tr>\n",
       "    <tr>\n",
       "      <th>Cross-validated Orthogona</th>\n",
       "      <td>0.268411</td>\n",
       "    </tr>\n",
       "    <tr>\n",
       "      <th>CCA Canonical Correlation</th>\n",
       "      <td>0.269251</td>\n",
       "    </tr>\n",
       "    <tr>\n",
       "      <th>A decision tree regressor</th>\n",
       "      <td>0.282409</td>\n",
       "    </tr>\n",
       "    <tr>\n",
       "      <th>An object for detecting o</th>\n",
       "      <td>0.301515</td>\n",
       "    </tr>\n",
       "    <tr>\n",
       "      <th>An AdaBoost regressor.</th>\n",
       "      <td>0.368622</td>\n",
       "    </tr>\n",
       "    <tr>\n",
       "      <th>Linear Support Vector Reg</th>\n",
       "      <td>0.394126</td>\n",
       "    </tr>\n",
       "    <tr>\n",
       "      <th>Linear model fitted by mi</th>\n",
       "      <td>0.395757</td>\n",
       "    </tr>\n",
       "    <tr>\n",
       "      <th>Lasso model fit with Lars</th>\n",
       "      <td>0.397665</td>\n",
       "    </tr>\n",
       "    <tr>\n",
       "      <th>Bayesian ridge regression</th>\n",
       "      <td>0.397694</td>\n",
       "    </tr>\n",
       "    <tr>\n",
       "      <th>Ridge regression with bui</th>\n",
       "      <td>0.397705</td>\n",
       "    </tr>\n",
       "    <tr>\n",
       "      <th>Linear least squares with</th>\n",
       "      <td>0.397720</td>\n",
       "    </tr>\n",
       "    <tr>\n",
       "      <th>Ordinary least squar</th>\n",
       "      <td>0.397721</td>\n",
       "    </tr>\n",
       "    <tr>\n",
       "      <th>Least Angle Regression mo</th>\n",
       "      <td>0.397721</td>\n",
       "    </tr>\n",
       "    <tr>\n",
       "      <th>Meta-estimator to regress</th>\n",
       "      <td>0.397721</td>\n",
       "    </tr>\n",
       "    <tr>\n",
       "      <th>Elastic Net model with it</th>\n",
       "      <td>0.397740</td>\n",
       "    </tr>\n",
       "    <tr>\n",
       "      <th>Cross-validated Least Ang</th>\n",
       "      <td>0.397752</td>\n",
       "    </tr>\n",
       "    <tr>\n",
       "      <th>Cross-validated Lasso, us</th>\n",
       "      <td>0.397752</td>\n",
       "    </tr>\n",
       "    <tr>\n",
       "      <th>PLS regression\\n\\n    PLSRe</th>\n",
       "      <td>0.397756</td>\n",
       "    </tr>\n",
       "    <tr>\n",
       "      <th>Lasso linear model with i</th>\n",
       "      <td>0.397756</td>\n",
       "    </tr>\n",
       "    <tr>\n",
       "      <th>Linear regression model t</th>\n",
       "      <td>0.397933</td>\n",
       "    </tr>\n",
       "    <tr>\n",
       "      <th>Theil-Sen Estimator</th>\n",
       "      <td>0.397942</td>\n",
       "    </tr>\n",
       "    <tr>\n",
       "      <th>Bayesian ARD regression.</th>\n",
       "      <td>0.398741</td>\n",
       "    </tr>\n",
       "    <tr>\n",
       "      <th>Gaussian process regressi</th>\n",
       "      <td>0.533644</td>\n",
       "    </tr>\n",
       "    <tr>\n",
       "      <th>Regression based on k-nea</th>\n",
       "      <td>0.537219</td>\n",
       "    </tr>\n",
       "    <tr>\n",
       "      <th>DummyClassifier is a</th>\n",
       "      <td>0.547273</td>\n",
       "    </tr>\n",
       "    <tr>\n",
       "      <th>Gradient Boosting for reg</th>\n",
       "      <td>0.616719</td>\n",
       "    </tr>\n",
       "    <tr>\n",
       "      <th>...</th>\n",
       "      <td>...</td>\n",
       "    </tr>\n",
       "    <tr>\n",
       "      <th>Nu Support Vector Regress</th>\n",
       "      <td>0.694059</td>\n",
       "    </tr>\n",
       "    <tr>\n",
       "      <th>Epsilon-Support Vector Re</th>\n",
       "      <td>0.694484</td>\n",
       "    </tr>\n",
       "    <tr>\n",
       "      <th>Multi-layer Perceptron re</th>\n",
       "      <td>0.696023</td>\n",
       "    </tr>\n",
       "    <tr>\n",
       "      <th>Naive Bayes classifier fo</th>\n",
       "      <td>0.740909</td>\n",
       "    </tr>\n",
       "    <tr>\n",
       "      <th>Linear classifiers (SVM,</th>\n",
       "      <td>0.780000</td>\n",
       "    </tr>\n",
       "    <tr>\n",
       "      <th>Passive Aggressive Classi</th>\n",
       "      <td>0.787879</td>\n",
       "    </tr>\n",
       "    <tr>\n",
       "      <th>Perceptron\\n\\n    Read more</th>\n",
       "      <td>0.792121</td>\n",
       "    </tr>\n",
       "    <tr>\n",
       "      <th>Nearest centroid classifi</th>\n",
       "      <td>0.792727</td>\n",
       "    </tr>\n",
       "    <tr>\n",
       "      <th>Linear Support Vector Cla</th>\n",
       "      <td>0.808182</td>\n",
       "    </tr>\n",
       "    <tr>\n",
       "      <th>Probability calibration w</th>\n",
       "      <td>0.808788</td>\n",
       "    </tr>\n",
       "    <tr>\n",
       "      <th>Ridge classifier with bui</th>\n",
       "      <td>0.809091</td>\n",
       "    </tr>\n",
       "    <tr>\n",
       "      <th>Logistic Regression CV (a</th>\n",
       "      <td>0.809091</td>\n",
       "    </tr>\n",
       "    <tr>\n",
       "      <th>Linear Discriminant Analy</th>\n",
       "      <td>0.809394</td>\n",
       "    </tr>\n",
       "    <tr>\n",
       "      <th>Classifier using Ridge re</th>\n",
       "      <td>0.809394</td>\n",
       "    </tr>\n",
       "    <tr>\n",
       "      <th>Logistic Regression (aka</th>\n",
       "      <td>0.810606</td>\n",
       "    </tr>\n",
       "    <tr>\n",
       "      <th>LabelSpreading model for</th>\n",
       "      <td>0.811515</td>\n",
       "    </tr>\n",
       "    <tr>\n",
       "      <th>Label Propagation classif</th>\n",
       "      <td>0.811818</td>\n",
       "    </tr>\n",
       "    <tr>\n",
       "      <th>Gaussian Naive Bayes</th>\n",
       "      <td>0.831212</td>\n",
       "    </tr>\n",
       "    <tr>\n",
       "      <th>A decision tree classifie</th>\n",
       "      <td>0.838182</td>\n",
       "    </tr>\n",
       "    <tr>\n",
       "      <th>An AdaBoost classifier.</th>\n",
       "      <td>0.848182</td>\n",
       "    </tr>\n",
       "    <tr>\n",
       "      <th>Classifier implementing t</th>\n",
       "      <td>0.855455</td>\n",
       "    </tr>\n",
       "    <tr>\n",
       "      <th>Quadratic Discriminant An</th>\n",
       "      <td>0.875758</td>\n",
       "    </tr>\n",
       "    <tr>\n",
       "      <th>A random forest classifie</th>\n",
       "      <td>0.878788</td>\n",
       "    </tr>\n",
       "    <tr>\n",
       "      <th>An extra-trees classifier</th>\n",
       "      <td>0.881212</td>\n",
       "    </tr>\n",
       "    <tr>\n",
       "      <th>A Bagging classifier.</th>\n",
       "      <td>0.890909</td>\n",
       "    </tr>\n",
       "    <tr>\n",
       "      <th>Nu-Support Vector Classif</th>\n",
       "      <td>0.901212</td>\n",
       "    </tr>\n",
       "    <tr>\n",
       "      <th>Gaussian process classifi</th>\n",
       "      <td>0.902727</td>\n",
       "    </tr>\n",
       "    <tr>\n",
       "      <th>Gradient Boosting for cla</th>\n",
       "      <td>0.917273</td>\n",
       "    </tr>\n",
       "    <tr>\n",
       "      <th>Multi-layer Perceptron cl</th>\n",
       "      <td>0.953636</td>\n",
       "    </tr>\n",
       "    <tr>\n",
       "      <th>C-Support Vector Classifi</th>\n",
       "      <td>0.955152</td>\n",
       "    </tr>\n",
       "  </tbody>\n",
       "</table>\n",
       "<p>63 rows × 1 columns</p>\n",
       "</div>"
      ],
      "text/plain": [
       "                             performance\n",
       "Orthogonal Matching Pursu       0.048406\n",
       "Passive Aggressive Regres       0.054968\n",
       "An extremely randomized t       0.220638\n",
       "PLSCanonical implements         0.268346\n",
       "Cross-validated Orthogona       0.268411\n",
       "CCA Canonical Correlation       0.269251\n",
       "A decision tree regressor       0.282409\n",
       "An object for detecting o       0.301515\n",
       "An AdaBoost regressor.          0.368622\n",
       "Linear Support Vector Reg       0.394126\n",
       "Linear model fitted by mi       0.395757\n",
       "Lasso model fit with Lars       0.397665\n",
       "Bayesian ridge regression       0.397694\n",
       "Ridge regression with bui       0.397705\n",
       "Linear least squares with       0.397720\n",
       "Ordinary least squar            0.397721\n",
       "Least Angle Regression mo       0.397721\n",
       "Meta-estimator to regress       0.397721\n",
       "Elastic Net model with it       0.397740\n",
       "Cross-validated Least Ang       0.397752\n",
       "Cross-validated Lasso, us       0.397752\n",
       "PLS regression\\n\\n    PLSRe     0.397756\n",
       "Lasso linear model with i       0.397756\n",
       "Linear regression model t       0.397933\n",
       "Theil-Sen Estimator             0.397942\n",
       "Bayesian ARD regression.        0.398741\n",
       "Gaussian process regressi       0.533644\n",
       "Regression based on k-nea       0.537219\n",
       "DummyClassifier is a            0.547273\n",
       "Gradient Boosting for reg       0.616719\n",
       "...                                  ...\n",
       "Nu Support Vector Regress       0.694059\n",
       "Epsilon-Support Vector Re       0.694484\n",
       "Multi-layer Perceptron re       0.696023\n",
       "Naive Bayes classifier fo       0.740909\n",
       "Linear classifiers (SVM,        0.780000\n",
       "Passive Aggressive Classi       0.787879\n",
       "Perceptron\\n\\n    Read more     0.792121\n",
       "Nearest centroid classifi       0.792727\n",
       "Linear Support Vector Cla       0.808182\n",
       "Probability calibration w       0.808788\n",
       "Ridge classifier with bui       0.809091\n",
       "Logistic Regression CV (a       0.809091\n",
       "Linear Discriminant Analy       0.809394\n",
       "Classifier using Ridge re       0.809394\n",
       "Logistic Regression (aka        0.810606\n",
       "LabelSpreading model for        0.811515\n",
       "Label Propagation classif       0.811818\n",
       "Gaussian Naive Bayes            0.831212\n",
       "A decision tree classifie       0.838182\n",
       "An AdaBoost classifier.         0.848182\n",
       "Classifier implementing t       0.855455\n",
       "Quadratic Discriminant An       0.875758\n",
       "A random forest classifie       0.878788\n",
       "An extra-trees classifier       0.881212\n",
       "A Bagging classifier.           0.890909\n",
       "Nu-Support Vector Classif       0.901212\n",
       "Gaussian process classifi       0.902727\n",
       "Gradient Boosting for cla       0.917273\n",
       "Multi-layer Perceptron cl       0.953636\n",
       "C-Support Vector Classifi       0.955152\n",
       "\n",
       "[63 rows x 1 columns]"
      ]
     },
     "execution_count": 80,
     "metadata": {},
     "output_type": "execute_result"
    }
   ],
   "source": [
    "df"
   ]
  },
  {
   "cell_type": "code",
   "execution_count": 81,
   "metadata": {},
   "outputs": [],
   "source": [
    "%matplotlib inline\n",
    "import matplotlib.pyplot as plt\n",
    "import matplotlib.ticker as ticker"
   ]
  },
  {
   "cell_type": "code",
   "execution_count": 82,
   "metadata": {},
   "outputs": [
    {
     "data": {
      "image/png": "[encoded data removed]",
      "text/plain": [
       "<Figure size 432x288 with 1 Axes>"
      ]
     },
     "metadata": {},
     "output_type": "display_data"
    }
   ],
   "source": [
    "df = df.sort_values(col_name)\n",
    "ax = df.plot(rot=45, x_compat=True)"
   ]
  },
  {
   "cell_type": "code",
   "execution_count": 83,
   "metadata": {},
   "outputs": [
    {
     "data": {
      "image/png": "[encoded data removed]",
      "text/plain": [
       "<Figure size 432x288 with 1 Axes>"
      ]
     },
     "metadata": {},
     "output_type": "display_data"
    }
   ],
   "source": [
    "df = df.sort_values(col_name)\n",
    "ax = df.plot(rot=90, x_compat=True)\n",
    "ax.xaxis.set_ticklabels(df.index)\n",
    "ax.xaxis.set_major_locator(ticker.MultipleLocator(1))"
   ]
  },
  {
   "cell_type": "code",
   "execution_count": 84,
   "metadata": {},
   "outputs": [
    {
     "data": {
      "text/plain": [
       "<matplotlib.axes._subplots.AxesSubplot at 0x120848828>"
      ]
     },
     "execution_count": 84,
     "metadata": {},
     "output_type": "execute_result"
    },
    {
     "data": {
      "image/png": "[encoded data removed]",
      "text/plain": [
       "<Figure size 1080x216 with 1 Axes>"
      ]
     },
     "metadata": {},
     "output_type": "display_data"
    }
   ],
   "source": [
    "fig , axes = plt.subplots(1,1)\n",
    "fig.set_size_inches(15,3)\n",
    "df = df.sort_values(col_name )\n",
    "axes.xaxis.set_ticklabels(df.index)\n",
    "axes.xaxis.set_major_locator(ticker.MultipleLocator(1))\n",
    "df.plot(rot=45, ax=axes)\n"
   ]
  },
  {
   "cell_type": "code",
   "execution_count": 85,
   "metadata": {},
   "outputs": [
    {
     "data": {
      "text/plain": [
       "<matplotlib.axes._subplots.AxesSubplot at 0x12095ee80>"
      ]
     },
     "execution_count": 85,
     "metadata": {},
     "output_type": "execute_result"
    },
    {
     "data": {
      "image/png": "[encoded data removed]",
      "text/plain": [
       "<Figure size 1080x216 with 1 Axes>"
      ]
     },
     "metadata": {},
     "output_type": "display_data"
    }
   ],
   "source": [
    "fig , axes = plt.subplots(1,1)\n",
    "fig.set_size_inches(15,3)\n",
    "df = df.sort_values(col_name )\n",
    "axes.xaxis.set_ticklabels(df.index)\n",
    "axes.xaxis.set_major_locator(ticker.MultipleLocator(1))\n",
    "df.plot(kind='bar', rot=90, ax=axes)"
   ]
  },
  {
   "cell_type": "code",
   "execution_count": 86,
   "metadata": {
    "scrolled": true
   },
   "outputs": [
    {
     "data": {
      "image/png": "[encoded data removed]",
      "text/plain": [
       "<Figure size 1080x576 with 1 Axes>"
      ]
     },
     "metadata": {},
     "output_type": "display_data"
    }
   ],
   "source": [
    "new_labels = []\n",
    "for i, index in enumerate(df.index):\n",
    "    new_label = \"%s (%.2f)\"%(index,df.performance[i])\n",
    "    new_labels.append(new_label.replace(\"\\n\", \" \"))\n",
    "    \n",
    "fig , axes = plt.subplots(1,1)\n",
    "df.index = new_labels\n",
    "fig.set_size_inches(15,8)\n",
    "fig.subplots_adjust(left=0.65)\n",
    "df.sort_values(col_name).plot(kind='barh', ax=axes)\n",
    "axes.xaxis.set_major_locator(ticker.MultipleLocator(1))\n",
    "\n",
    "pass"
   ]
  },
  {
   "cell_type": "markdown",
   "metadata": {},
   "source": [
    "### Which scoring function ?"
   ]
  },
  {
   "cell_type": "code",
   "execution_count": 134,
   "metadata": {},
   "outputs": [],
   "source": [
    "from sklearn.metrics import precision_recall_curve"
   ]
  },
  {
   "cell_type": "code",
   "execution_count": 135,
   "metadata": {},
   "outputs": [],
   "source": [
    "from sklearn.metrics import roc_curve"
   ]
  },
  {
   "cell_type": "markdown",
   "metadata": {},
   "source": [
    "### Tester les métriques sur un algo"
   ]
  },
  {
   "cell_type": "code",
   "execution_count": 136,
   "metadata": {},
   "outputs": [],
   "source": [
    "from sklearn.tree import DecisionTreeClassifier\n",
    "from sklearn.ensemble import RandomForestClassifier\n",
    "from sklearn.linear_model import ElasticNet, BayesianRidge"
   ]
  },
  {
   "cell_type": "markdown",
   "metadata": {},
   "source": [
    "### L'algo a des performances variables"
   ]
  },
  {
   "cell_type": "code",
   "execution_count": 137,
   "metadata": {},
   "outputs": [
    {
     "name": "stderr",
     "output_type": "stream",
     "text": [
      "/anaconda3/lib/python3.6/site-packages/sklearn/ensemble/forest.py:246: FutureWarning: The default value of n_estimators will change from 10 in version 0.20 to 100 in 0.22.\n",
      "  \"10 in version 0.20 to 100 in 0.22.\", FutureWarning)\n"
     ]
    },
    {
     "name": "stdout",
     "output_type": "stream",
     "text": [
      "0 0.886969696969697\n",
      "1 0.8836363636363637\n",
      "2 0.8851515151515151\n",
      "3 0.8787878787878788\n",
      "4 0.8884848484848484\n",
      "5 0.8781818181818182\n",
      "6 0.8809090909090909\n",
      "7 0.8836363636363637\n"
     ]
    }
   ],
   "source": [
    "performances = {}\n",
    "algorithme = RandomForestClassifier()\n",
    "for i in range(8):\n",
    "    modele      = algorithme.fit(X_train, y_train)\n",
    "    performance = modele.score(   X_test, y_test)\n",
    "    print(i, performance)\n",
    "    performances[i] = [performance]"
   ]
  },
  {
   "cell_type": "code",
   "execution_count": 138,
   "metadata": {},
   "outputs": [
    {
     "data": {
      "text/plain": [
       "<matplotlib.axes._subplots.AxesSubplot at 0x120da6860>"
      ]
     },
     "execution_count": 138,
     "metadata": {},
     "output_type": "execute_result"
    },
    {
     "data": {
      "image/png": "[encoded data removed]",
      "text/plain": [
       "<Figure size 432x288 with 1 Axes>"
      ]
     },
     "metadata": {},
     "output_type": "display_data"
    }
   ],
   "source": [
    "pd.DataFrame.from_dict(performances).T.plot()"
   ]
  },
  {
   "cell_type": "markdown",
   "metadata": {},
   "source": [
    "### Taux d'erreur sur probabilité d'appartenance à une classe"
   ]
  },
  {
   "cell_type": "code",
   "execution_count": 139,
   "metadata": {
    "scrolled": true
   },
   "outputs": [
    {
     "name": "stdout",
     "output_type": "stream",
     "text": [
      "[1. 0.]\n",
      "[0. 1.]\n",
      "[0.9 0.1]\n",
      "[0.9 0.1]\n",
      "[1. 0.]\n",
      "[1. 0.]\n",
      "[0.6 0.4]\n",
      "[1. 0.]\n",
      "[0.8 0.2]\n",
      "[0.7 0.3]\n",
      "[1. 0.]\n",
      "[0.9 0.1]\n",
      "[0.2 0.8]\n",
      "[0.4 0.6]\n",
      "[0.5 0.5]\n",
      "[0.4 0.6]\n",
      "[1. 0.]\n",
      "[0.4 0.6]\n",
      "[1. 0.]\n",
      "[1. 0.]\n",
      "[1. 0.]\n",
      "[0.5 0.5]\n",
      "[0.3 0.7]\n",
      "[0.1 0.9]\n",
      "[0.9 0.1]\n",
      "[0. 1.]\n",
      "[1. 0.]\n",
      "[1. 0.]\n",
      "[0.1 0.9]\n",
      "[0.1 0.9]\n"
     ]
    }
   ],
   "source": [
    "y_pred = modele.predict_proba(X_test)\n",
    "for i in y_pred[:30]:\n",
    "    print(i),"
   ]
  },
  {
   "cell_type": "code",
   "execution_count": 140,
   "metadata": {},
   "outputs": [
    {
     "data": {
      "text/plain": [
       "array([0. , 1. , 0.1, 0.1, 0. , 0. , 0.4, 0. , 0.2, 0.3, 0. , 0.1, 0.8,\n",
       "       0.6, 0.5, 0.6, 0. , 0.6, 0. , 0. , 0. , 0.5, 0.7, 0.9, 0.1, 1. ,\n",
       "       0. , 0. , 0.9, 0.9])"
      ]
     },
     "execution_count": 140,
     "metadata": {},
     "output_type": "execute_result"
    }
   ],
   "source": [
    "y_pred[:, 1][:30]"
   ]
  },
  {
   "cell_type": "code",
   "execution_count": 141,
   "metadata": {},
   "outputs": [
    {
     "data": {
      "text/plain": [
       "array([0, 1, 0, 0, 0, 0, 1, 0, 0, 0, 0, 0, 1, 1, 1, 0, 0, 1, 0, 0, 0, 0,\n",
       "       1, 1, 0, 1, 0, 0, 1, 1], dtype=uint8)"
      ]
     },
     "execution_count": 141,
     "metadata": {},
     "output_type": "execute_result"
    }
   ],
   "source": [
    "y_test[:30]"
   ]
  },
  {
   "cell_type": "markdown",
   "metadata": {},
   "source": [
    "### Le taux d'erreur dépend du seuil de choix de basculement vers 1 ou 0"
   ]
  },
  {
   "cell_type": "code",
   "execution_count": 142,
   "metadata": {},
   "outputs": [],
   "source": [
    "from sklearn.metrics import confusion_matrix, roc_curve, auc"
   ]
  },
  {
   "cell_type": "code",
   "execution_count": 157,
   "metadata": {},
   "outputs": [],
   "source": [
    "def bascule(y_pred, seuil):\n",
    "    return map(lambda prediction : 0 if prediction < seuil   else 1, y_pred)"
   ]
  },
  {
   "cell_type": "code",
   "execution_count": 164,
   "metadata": {
    "scrolled": true
   },
   "outputs": [
    {
     "name": "stdout",
     "output_type": "stream",
     "text": [
      "[[1877  156]\n",
      " [ 233 1034]]\n",
      "[0, 1, 0, 0, 0, 0, 0, 0, 0, 0, 0, 0, 1, 1, 1, 1, 0, 1, 0, 0, 0, 1, 1, 1, 0, 1, 0, 0, 1, 1, 0, 0, 1, 0, 0, 1, 1, 1, 1, 0, 1, 0, 0, 1, 0, 1, 0, 0, 1, 0, 0, 1, 0, 1, 0, 0, 1, 0, 0, 1, 0, 1, 1, 0, 1, 0, 0, 1, 0, 1, 0, 0, 1, 1, 1, 1, 1, 0, 0, 1, 0, 0, 1, 0, 0, 1, 1, 1, 1, 0, 0, 1, 0, 0, 0, 0, 1, 0, 1, 0, 0, 1, 0, 0, 0, 0, 0, 0, 1, 1, 1, 1, 1, 1, 1, 0, 0, 0, 1, 1, 0, 0, 0, 0, 0, 0, 1, 0, 1, 0, 0, 0, 1, 0, 0, 1, 1, 0, 1, 0, 1, 0, 1, 0, 1, 0, 1, 1, 1, 0, 1, 1, 0, 1, 0, 1, 1, 0, 0, 1, 0, 1, 1, 0, 0, 1, 0, 1, 0, 0, 0, 0, 0, 0, 1, 0, 0, 1, 0, 0, 0, 1, 1, 1, 1, 1, 0, 0, 0, 1, 1, 0, 0, 0, 0, 1, 0, 0, 1, 0, 0, 0, 1, 0, 0, 1, 0, 0, 0, 0, 0, 0, 0, 0, 0, 1, 0, 1, 0, 1, 0, 1, 0, 0, 0, 1, 0, 1, 1, 0, 1, 1, 0, 1, 1, 0, 0, 0, 0, 0, 1, 0, 0, 1, 1, 1, 0, 1, 0, 0, 1, 0, 0, 0, 0, 1, 0, 0, 1, 0, 1, 0, 0, 0, 0, 0, 0, 0, 1, 0, 0, 1, 1, 1, 0, 0, 0, 1, 1, 1, 0, 0, 1, 1, 0, 0, 1, 0, 0, 0, 0, 1, 1, 0, 1, 0, 0, 1, 0, 0, 0, 1, 0, 1, 0, 0, 0, 1, 0, 0, 0, 1, 0, 1, 0, 1, 0, 0, 1, 0, 0, 1, 1, 0, 0, 1, 0, 1, 1, 0, 0, 0, 0, 1, 1, 0, 0, 0, 0, 1, 0, 1, 0, 1, 0, 1, 0, 0, 0, 1, 0, 0, 1, 0, 1, 0, 0, 1, 0, 1, 0, 1, 0, 0, 0, 0, 0, 0, 0, 0, 0, 0, 1, 0, 0, 1, 0, 1, 1, 0, 1, 0, 0, 0, 1, 0, 0, 0, 1, 1, 1, 1, 0, 1, 1, 0, 0, 1, 0, 0, 0, 0, 0, 1, 0, 0, 0, 1, 0, 0, 0, 1, 1, 0, 0, 1, 1, 0, 0, 0, 0, 1, 0, 1, 1, 0, 0, 1, 1, 0, 1, 0, 1, 0, 0, 0, 1, 0, 1, 0, 0, 0, 0, 1, 0, 0, 0, 1, 0, 0, 0, 1, 0, 0, 0, 1, 0, 1, 0, 0, 1, 0, 0, 0, 1, 0, 0, 0, 0, 1, 1, 0, 1, 0, 0, 1, 1, 0, 1, 0, 1, 0, 0, 1, 0, 0, 0, 1, 0, 0, 0, 0, 1, 1, 1, 0, 1, 1, 0, 1, 0, 1, 0, 0, 1, 0, 1, 0, 1, 0, 0, 1, 0, 0, 0, 1, 1, 0, 0, 0, 0, 0, 0, 0, 0, 0, 1, 1, 1, 1, 1, 1, 1, 1, 1, 0, 0, 0, 0, 0, 1, 0, 1, 0, 1, 0, 0, 1, 0, 0, 1, 1, 1, 0, 0, 1, 0, 1, 0, 0, 0, 0, 0, 1, 1, 1, 0, 0, 1, 1, 0, 0, 0, 0, 1, 0, 1, 0, 1, 0, 0, 0, 0, 0, 0, 1, 0, 1, 0, 0, 0, 0, 0, 1, 0, 0, 1, 0, 1, 0, 0, 0, 0, 1, 0, 0, 0, 1, 0, 0, 0, 0, 0, 0, 0, 0, 1, 1, 0, 1, 1, 0, 0, 1, 0, 0, 0, 1, 1, 1, 0, 1, 1, 1, 1, 0, 0, 1, 1, 0, 1, 0, 1, 1, 0, 0, 0, 1, 0, 0, 1, 0, 1, 0, 0, 1, 0, 0, 0, 1, 0, 1, 1, 1, 0, 1, 0, 0, 0, 1, 0, 1, 1, 0, 1, 0, 0, 1, 1, 0, 0, 0, 1, 0, 0, 1, 1, 0, 1, 0, 0, 1, 1, 1, 0, 0, 0, 1, 1, 1, 0, 0, 1, 0, 0, 0, 1, 1, 0, 0, 0, 0, 1, 1, 0, 1, 0, 1, 1, 0, 0, 1, 1, 1, 0, 1, 1, 0, 1, 1, 1, 1, 1, 0, 0, 0, 0, 1, 0, 0, 1, 1, 1, 0, 0, 0, 0, 1, 1, 0, 0, 0, 1, 0, 0, 0, 0, 1, 0, 1, 0, 0, 1, 0, 0, 1, 0, 1, 1, 1, 0, 0, 1, 1, 1, 0, 0, 0, 1, 0, 1, 0, 0, 1, 0, 0, 0, 0, 0, 1, 0, 1, 0, 0, 0, 1, 0, 0, 0, 1, 0, 1, 1, 1, 1, 0, 0, 0, 1, 1, 0, 0, 1, 0, 0, 0, 0, 0, 0, 1, 0, 0, 0, 0, 0, 0, 0, 1, 0, 0, 1, 1, 0, 0, 0, 0, 1, 0, 0, 0, 0, 0, 1, 0, 1, 1, 1, 0, 0, 1, 0, 1, 0, 0, 0, 0, 0, 1, 0, 0, 0, 1, 0, 0, 0, 0, 0, 0, 0, 0, 1, 1, 1, 1, 1, 0, 0, 1, 0, 1, 0, 1, 1, 1, 1, 0, 0, 0, 1, 1, 1, 1, 1, 0, 0, 0, 0, 0, 1, 1, 1, 0, 0, 0, 1, 0, 0, 0, 1, 0, 1, 0, 0, 0, 0, 0, 0, 1, 0, 0, 1, 1, 0, 0, 0, 0, 1, 1, 1, 1, 1, 0, 0, 0, 0, 0, 0, 1, 1, 1, 1, 0, 0, 0, 0, 1, 0, 0, 0, 1, 0, 0, 0, 1, 1, 0, 0, 0, 1, 1, 0, 0, 0, 0, 0, 0, 1, 0, 1, 1, 1, 1, 1, 1, 1, 1, 0, 0, 0, 1, 0, 0, 0, 1, 1, 0, 1, 0, 0, 0, 0, 1, 0, 0, 0, 0, 0, 0, 0, 0, 1, 0, 0, 0, 1, 0, 0, 0, 0, 1, 0, 0, 1, 1, 1, 1, 0, 0, 1, 0, 1, 0, 0, 0, 0, 1, 1, 0, 0, 0, 0, 0, 0, 1, 0, 0, 0, 0, 0, 1, 1, 0, 0, 1, 1, 0, 0, 0, 0, 0, 1, 1, 1, 0, 0, 0, 0, 0, 0, 0, 1, 0, 0, 1, 1, 1, 1, 0, 1, 1, 0, 0, 0, 0, 0, 1, 0, 1, 1, 0, 1, 1, 0, 1, 1, 0, 0, 0, 1, 0, 0, 0, 0, 1, 0, 0, 0, 0, 0, 0, 1, 1, 1, 1, 1, 1, 0, 1, 0, 0, 0, 1, 1, 1, 0, 0, 1, 1, 1, 0, 0, 0, 1, 1, 0, 0, 0, 0, 0, 0, 1, 1, 0, 0, 1, 1, 1, 0, 1, 0, 0, 0, 0, 0, 0, 1, 0, 1, 0, 0, 1, 0, 0, 1, 0, 0, 0, 1, 1, 1, 1, 1, 1, 0, 0, 1, 0, 0, 0, 0, 0, 0, 0, 0, 1, 0, 1, 1, 0, 0, 0, 0, 0, 0, 1, 1, 1, 0, 1, 0, 1, 0, 1, 1, 1, 1, 1, 0, 1, 0, 0, 0, 0, 1, 0, 0, 0, 0, 1, 0, 0, 0, 0, 1, 0, 0, 0, 1, 0, 0, 0, 0, 0, 0, 0, 0, 1, 1, 1, 1, 0, 0, 1, 0, 0, 0, 0, 0, 1, 0, 1, 0, 0, 0, 0, 1, 1, 0, 1, 1, 1, 1, 1, 0, 0, 1, 1, 0, 0, 0, 1, 0, 1, 0, 0, 1, 1, 0, 1, 0, 1, 0, 0, 1, 0, 0, 0, 0, 0, 1, 0, 1, 0, 0, 0, 0, 0, 1, 0, 1, 1, 0, 0, 0, 0, 0, 0, 0, 0, 0, 1, 0, 0, 1, 1, 0, 0, 1, 0, 1, 1, 1, 0, 0, 0, 0, 0, 0, 1, 0, 0, 1, 0, 0, 1, 1, 0, 0, 0, 1, 1, 1, 0, 1, 1, 0, 1, 0, 0, 0, 0, 0, 0, 1, 0, 0, 0, 0, 0, 0, 1, 0, 0, 0, 0, 0, 0, 0, 0, 1, 1, 0, 0, 1, 1, 0, 0, 1, 0, 1, 1, 1, 0, 0, 0, 1, 0, 0, 0, 1, 0, 1, 0, 1, 0, 1, 1, 0, 0, 0, 0, 1, 0, 0, 1, 0, 0, 0, 0, 0, 0, 0, 1, 1, 1, 0, 1, 1, 1, 0, 1, 1, 0, 0, 1, 0, 0, 0, 0, 0, 0, 0, 0, 0, 0, 1, 1, 1, 1, 1, 1, 0, 1, 1, 1, 1, 0, 0, 0, 0, 1, 0, 1, 1, 0, 1, 1, 0, 0, 0, 1, 0, 0, 0, 1, 1, 0, 0, 0, 1, 0, 0, 0, 0, 0, 0, 0, 0, 0, 0, 0, 0, 0, 0, 0, 1, 1, 0, 1, 0, 1, 0, 0, 1, 0, 0, 0, 1, 0, 0, 0, 0, 1, 0, 1, 1, 0, 1, 0, 1, 0, 1, 0, 1, 1, 1, 0, 1, 0, 0, 0, 1, 0, 1, 1, 0, 0, 0, 0, 0, 1, 1, 0, 1, 1, 0, 1, 0, 0, 1, 0, 1, 0, 1, 1, 0, 0, 1, 1, 1, 0, 0, 0, 1, 1, 0, 0, 0, 0, 0, 1, 0, 0, 0, 0, 0, 0, 1, 0, 1, 0, 0, 0, 0, 1, 0, 0, 1, 0, 0, 1, 1, 0, 0, 1, 0, 1, 0, 0, 1, 0, 1, 0, 0, 0, 0, 0, 1, 1, 1, 1, 0, 1, 1, 1, 1, 0, 0, 0, 1, 0, 1, 0, 0, 1, 1, 1, 0, 0, 0, 1, 1, 0, 0, 0, 1, 0, 1, 0, 0, 0, 1, 0, 1, 0, 0, 1, 0, 0, 1, 1, 1, 1, 0, 0, 0, 1, 1, 0, 1, 1, 1, 0, 0, 0, 0, 1, 1, 1, 1, 0, 0, 0, 0, 0, 1, 0, 1, 0, 1, 0, 1, 0, 0, 1, 0, 1, 0, 1, 0, 0, 0, 1, 0, 0, 1, 1, 1, 0, 0, 0, 0, 1, 0, 0, 1, 0, 0, 1, 0, 0, 1, 0, 0, 0, 0, 0, 0, 1, 1, 0, 1, 0, 1, 1, 0, 0, 0, 0, 1, 1, 0, 0, 1, 0, 0, 0, 0, 0, 0, 0, 1, 1, 0, 1, 0, 1, 1, 0, 0, 1, 0, 1, 1, 1, 1, 0, 0, 0, 0, 1, 1, 0, 0, 0, 1, 0, 0, 0, 0, 0, 0, 1, 0, 0, 0, 0, 1, 0, 1, 1, 1, 1, 1, 0, 0, 1, 1, 0, 1, 1, 0, 1, 1, 0, 0, 1, 0, 1, 0, 1, 0, 1, 1, 0, 0, 0, 0, 0, 0, 1, 0, 0, 0, 1, 0, 1, 1, 1, 1, 0, 0, 1, 0, 0, 0, 0, 1, 0, 0, 0, 0, 1, 0, 0, 0, 0, 1, 1, 0, 0, 0, 1, 0, 1, 1, 1, 1, 0, 0, 0, 1, 0, 0, 1, 1, 0, 0, 0, 0, 0, 1, 0, 0, 1, 1, 0, 0, 1, 1, 1, 0, 1, 1, 1, 1, 0, 0, 1, 0, 0, 0, 0, 0, 0, 0, 0, 0, 1, 1, 1, 0, 0, 1, 0, 1, 0, 1, 0, 0, 1, 0, 0, 0, 0, 0, 1, 0, 0, 0, 0, 1, 0, 1, 0, 0, 0, 0, 1, 1, 1, 0, 0, 0, 0, 1, 1, 0, 0, 0, 0, 1, 0, 0, 1, 0, 1, 0, 1, 0, 0, 1, 0, 1, 0, 0, 0, 1, 1, 1, 0, 0, 1, 1, 0, 1, 0, 0, 1, 0, 0, 0, 0, 0, 0, 1, 1, 0, 1, 0, 0, 1, 0, 1, 1, 0, 1, 0, 1, 0, 0, 0, 0, 1, 0, 1, 0, 0, 0, 1, 1, 0, 0, 1, 0, 1, 1, 0, 0, 0, 0, 0, 0, 1, 0, 0, 0, 0, 0, 0, 1, 0, 0, 1, 1, 0, 0, 1, 0, 1, 0, 0, 0, 0, 0, 1, 0, 0, 1, 1, 1, 0, 1, 0, 0, 0, 0, 0, 1, 1, 0, 1, 0, 1, 0, 0, 0, 0, 0, 0, 0, 1, 0, 0, 0, 0, 1, 0, 0, 0, 0, 1, 0, 1, 0, 0, 0, 1, 1, 0, 0, 1, 0, 1, 0, 1, 0, 1, 0, 0, 0, 0, 0, 0, 0, 0, 0, 1, 0, 1, 0, 0, 1, 0, 0, 0, 0, 1, 0, 0, 0, 0, 0, 0, 0, 1, 1, 1, 0, 1, 1, 0, 0, 0, 0, 0, 1, 0, 1, 1, 0, 0, 0, 0, 1, 0, 1, 0, 0, 0, 0, 0, 0, 0, 0, 0, 1, 1, 1, 1, 0, 0, 1, 0, 0, 0, 1, 1, 0, 1, 1, 0, 0, 1, 0, 1, 0, 1, 1, 0, 0, 0, 0, 0, 0, 1, 0, 1, 0, 1, 0, 1, 0, 1, 1, 0, 0, 0, 1, 0, 0, 1, 0, 0, 0, 1, 1, 0, 1, 0, 0, 0, 0, 0, 1, 1, 1, 0, 0, 1, 0, 0, 1, 1, 1, 0, 0, 0, 0, 1, 0, 1, 1, 0, 0, 1, 0, 0, 0, 0, 0, 0, 0, 1, 0, 0, 0, 0, 1, 1, 0, 1, 0, 0, 0, 0, 1, 0, 0, 0, 1, 1, 1, 0, 0, 1, 1, 0, 1, 0, 0, 1, 0, 1, 0, 1, 0, 0, 0, 1, 0, 0, 1, 1, 0, 0, 1, 0, 0, 0, 0, 0, 1, 0, 0, 0, 0, 1, 0, 0, 0, 0, 1, 0, 0, 0, 0, 1, 1, 0, 0, 0, 0, 0, 0, 0, 0, 1, 0, 0, 0, 1, 0, 0, 1, 0, 1, 1, 0, 0, 0, 1, 1, 1, 0, 1, 0, 0, 1, 0, 1, 1, 0, 0, 0, 1, 1, 1, 1, 0, 0, 1, 1, 1, 1, 1, 0, 0, 0, 0, 1, 0, 0, 1, 1, 0, 0, 0, 0, 1, 1, 0, 0, 0, 1, 0, 0, 0, 0, 0, 1, 1, 0, 1, 1, 0, 0, 0, 0, 1, 1, 0, 0, 0, 0, 0, 1, 0, 1, 1, 0, 1, 1, 1, 1, 0, 0, 0, 0, 0, 0, 1, 0, 1, 0, 1, 0, 0, 0, 0, 0, 0, 0, 1, 0, 0, 0, 1, 0, 0, 1, 0, 0, 0, 1, 0, 0, 0, 1, 0, 0, 0, 0, 1, 0, 0, 1, 0, 1, 0, 1, 1, 0, 0, 0, 0, 0, 0, 1, 0, 0, 1, 1, 0, 0, 1, 0, 0, 0, 1, 1, 1, 1, 1, 0, 0, 1, 1, 1, 0, 0, 0, 0, 0, 0, 1, 1, 0, 0, 1, 1, 0, 0, 1, 0, 0, 0, 0, 1, 0, 0, 0, 1, 1, 0, 0, 0, 0, 0, 0, 0, 1, 1, 1, 0, 0, 0, 0, 0, 1, 0, 1, 1, 1, 0, 0, 0, 1, 1, 0, 1, 1, 0, 0, 0, 0, 0, 0, 0, 1, 1, 0, 1, 0, 0, 0, 0, 0, 0, 0, 0, 0, 0, 0, 1, 1, 0, 1, 0, 0, 1, 1, 1, 1, 0, 0, 1, 0, 0, 0, 0, 1, 1, 1, 0, 0, 0, 0, 1, 1, 0, 0, 1, 0, 0, 0, 0, 1, 1, 1, 0, 1, 0, 1, 0, 1, 1, 0, 0, 1, 1, 0, 0, 1, 0, 0, 1, 1, 1, 1, 0, 0, 0, 1, 0, 0, 0, 1, 0, 1, 0, 1, 0, 1, 0, 1, 1, 0, 1, 1, 1, 1, 1, 0, 0, 1, 0, 1, 0, 0, 0, 0, 0, 1, 0, 0, 0, 0, 0, 0, 1, 0, 1, 1, 0, 1, 1, 0, 0, 1, 0, 0, 1, 1, 1, 0, 0, 0, 0, 1, 0, 1, 1, 1, 1, 0, 0, 1, 0, 1, 1, 1, 1, 0, 0, 1, 0, 1, 1, 0, 1, 0, 1, 0, 0, 1, 1, 0, 0, 0, 0, 1, 1, 0, 0, 1, 1, 1, 1, 0, 0, 1, 0, 1, 0, 1, 0, 1, 0, 0, 0, 0, 0, 1, 0, 1, 1, 0, 1, 1, 0, 0, 0, 0, 0, 1, 0, 0, 1, 0, 0, 0, 1, 0, 0, 0, 0, 1, 0, 1, 1, 0, 0, 1, 1, 0, 1, 0, 0, 0, 0, 0, 0, 1, 0, 0, 1, 0, 1, 1, 0, 1, 1, 0, 1, 0, 1, 0, 0, 1, 0, 0, 0, 1, 0, 1, 1, 0, 0, 0, 0, 0, 1, 1, 1, 1, 1, 1, 0, 0, 0, 1, 1, 1, 0, 0, 0, 1, 1, 1, 1, 0, 0, 0, 0, 0, 0, 0, 0, 0, 1, 1, 1, 0, 0, 0, 0, 0, 1, 0, 0, 0, 0, 0, 1, 0, 0, 0, 0, 1, 1, 0, 0, 1, 0, 0, 0, 0, 1, 0, 1, 0, 0, 0, 0, 0, 1, 0, 1, 1, 1, 0, 0, 1, 1, 1, 1, 0, 0, 0, 1, 1, 1, 1, 0, 0, 0, 1, 1, 1, 0, 1, 1, 0, 0, 1, 0, 0, 1, 1, 0, 1, 0, 0, 0, 1, 0, 1, 1, 0, 1, 0, 1, 0, 0, 0, 1, 0, 1, 1, 0, 1, 0, 0, 1, 1, 0, 0, 1, 0, 1, 0, 1, 0, 1, 1, 0, 1, 0, 1, 0, 1, 0, 0, 0, 1, 1, 0, 0, 1, 0, 0, 0, 0, 0, 0, 0, 0, 1, 0, 1, 0, 0, 0, 1, 1, 0, 0, 0, 0, 0, 0, 0, 0, 0, 0, 0, 1, 0, 1, 1, 0, 0, 0, 0, 1, 0, 0, 0, 1, 1, 0, 0, 1, 0, 0, 0, 0, 0, 0, 0, 0, 0, 0, 1, 1, 1, 0, 0, 0, 0, 1, 0, 1, 1, 1, 0, 0, 0, 0, 1, 1, 0, 0, 0, 0, 0, 0, 0, 1, 1, 1, 1, 0, 0, 0, 0, 0, 0, 0, 1, 1, 1, 0, 1, 1, 1, 0, 0, 0, 1, 1, 1, 0, 0, 0, 0, 0, 0, 0, 1, 1, 1, 0, 1, 1, 1, 0, 1, 0, 0, 1, 0, 0, 1, 1, 1, 1, 1, 0, 1, 1, 0, 0, 0, 1, 0, 1, 0, 1, 0, 1, 0, 0, 0, 1, 1, 1, 0, 1, 0, 0, 1, 1, 0, 0, 0, 0, 0, 0, 0, 0, 0, 0, 0, 0, 0, 1, 0, 1, 1, 1, 0, 0, 1, 1, 0, 0, 0, 0, 1, 0, 0, 1, 0, 0, 1, 0, 0, 0, 0, 0, 0, 0, 1, 0, 0, 1, 0, 0, 0, 0, 0, 1, 1, 0, 1, 1, 0, 0, 1, 0, 0, 0, 0, 0, 1, 0, 0, 0, 0, 0, 0, 1, 0, 1, 0, 0, 0, 0, 1, 1, 0, 1, 0, 0, 0, 1, 0, 0, 0, 1, 0, 0, 0, 1, 0, 0, 1, 1, 0, 1, 0, 0, 0, 1, 0, 0, 1, 0, 0, 0, 1, 0, 1, 0, 0, 0, 0, 1, 0, 0, 0, 1, 0, 1, 0, 0, 1, 0, 0, 1, 0, 0, 0, 1, 1, 1, 1, 0, 1, 0, 1, 1, 0, 0, 0, 0, 1, 0, 1, 0, 0, 0, 0, 0, 1, 0, 0, 0, 1, 0, 1, 1, 0, 0, 0, 1, 0, 0, 1, 1, 0, 0, 1, 0, 0, 0, 1, 1, 0, 0, 0, 1, 1, 0, 0, 1, 0, 0, 1, 0, 1, 1, 0, 0, 0, 1, 1, 0, 1, 0, 1, 0, 0, 0, 0, 0, 0, 0, 0, 0, 0, 1, 1, 1, 0, 0, 0, 0, 0, 0, 1, 1, 0, 0, 1, 0, 1, 0, 0, 0, 1, 0, 0, 0, 0, 0, 0, 0, 0, 0, 1, 1, 1, 0, 0, 1, 1, 0]\n"
     ]
    }
   ],
   "source": [
    "prediction_selon_seuil = list(bascule(y_pred[:, 1], 0.5))\n",
    "\n",
    "print(confusion_matrix(prediction_selon_seuil, y_test))\n",
    "print(prediction_selon_seuil)"
   ]
  },
  {
   "cell_type": "code",
   "execution_count": 165,
   "metadata": {},
   "outputs": [],
   "source": [
    "def draw_confusion_matrix(y_test, predictions, title):\n",
    "    from sklearn.metrics import confusion_matrix,accuracy_score\n",
    "    import matplotlib.pyplot as plt\n",
    "    cm    = confusion_matrix(y_test, predictions)\n",
    "    accur = accuracy_score  (y_test, predictions)\n",
    "    \n",
    "    plt.matshow  (cm)\n",
    "    plt.ylabel   ('True Label')\n",
    "    plt.xlabel   ('Predicted Label')\n",
    "    plt.suptitle ('Confusion matrix (Accuracy of %.2f) for [%s]'%(accur,title))\n",
    "    plt.colorbar ()\n",
    "    plt.show     ()"
   ]
  },
  {
   "cell_type": "code",
   "execution_count": 166,
   "metadata": {},
   "outputs": [
    {
     "data": {
      "image/png": "[encoded data removed]",
      "text/plain": [
       "<Figure size 288x288 with 2 Axes>"
      ]
     },
     "metadata": {},
     "output_type": "display_data"
    }
   ],
   "source": [
    "draw_confusion_matrix(y_test, prediction_selon_seuil, \"t\")"
   ]
  },
  {
   "cell_type": "markdown",
   "metadata": {},
   "source": [
    "#### Comment tester tous les seuils ? Avec la courbe ROC"
   ]
  },
  {
   "cell_type": "code",
   "execution_count": 167,
   "metadata": {},
   "outputs": [],
   "source": [
    "taux_de_faux_positif, taux_de_vrai_positifs, seuils =  roc_curve(y_test, y_pred[:, 1])"
   ]
  },
  {
   "cell_type": "code",
   "execution_count": 168,
   "metadata": {},
   "outputs": [
    {
     "data": {
      "text/plain": [
       "array([2. , 1. , 0.9, 0.8, 0.7, 0.6, 0.5, 0.4, 0.3, 0.2, 0.1, 0. ])"
      ]
     },
     "execution_count": 168,
     "metadata": {},
     "output_type": "execute_result"
    }
   ],
   "source": [
    "seuils"
   ]
  },
  {
   "cell_type": "code",
   "execution_count": 169,
   "metadata": {},
   "outputs": [
    {
     "data": {
      "text/plain": [
       "array([0.        , 0.13529412, 0.33193277, 0.50840336, 0.65798319,\n",
       "       0.77142857, 0.86890756, 0.9302521 , 0.9697479 , 0.99243697,\n",
       "       0.99915966, 1.        ])"
      ]
     },
     "execution_count": 169,
     "metadata": {},
     "output_type": "execute_result"
    }
   ],
   "source": [
    "taux_de_vrai_positifs"
   ]
  },
  {
   "cell_type": "code",
   "execution_count": 170,
   "metadata": {},
   "outputs": [
    {
     "data": {
      "text/plain": [
       "array([0.00000000e+00, 4.73933649e-04, 2.84360190e-03, 7.58293839e-03,\n",
       "       2.22748815e-02, 5.30805687e-02, 1.10426540e-01, 1.74407583e-01,\n",
       "       2.79620853e-01, 4.23222749e-01, 6.35071090e-01, 1.00000000e+00])"
      ]
     },
     "execution_count": 170,
     "metadata": {},
     "output_type": "execute_result"
    }
   ],
   "source": [
    "taux_de_faux_positif"
   ]
  },
  {
   "cell_type": "code",
   "execution_count": 171,
   "metadata": {},
   "outputs": [
    {
     "data": {
      "text/plain": [
       "0.9543247441156557"
      ]
     },
     "execution_count": 171,
     "metadata": {},
     "output_type": "execute_result"
    }
   ],
   "source": [
    "auc_global = auc(taux_de_faux_positif, taux_de_vrai_positifs)\n",
    "auc_global"
   ]
  },
  {
   "cell_type": "markdown",
   "metadata": {},
   "source": [
    "### Tracer la courbe ROC"
   ]
  },
  {
   "cell_type": "code",
   "execution_count": 172,
   "metadata": {},
   "outputs": [
    {
     "data": {
      "image/png": "[encoded data removed]",
      "text/plain": [
       "<Figure size 432x288 with 1 Axes>"
      ]
     },
     "metadata": {},
     "output_type": "display_data"
    }
   ],
   "source": [
    "plt.figure()\n",
    "lw = 2\n",
    "plt.plot(taux_de_faux_positif, \n",
    "         taux_de_vrai_positifs, \n",
    "         color='darkorange',\n",
    "         lw=lw, \n",
    "         label='ROC curve (area = %0.2f)' % auc_global)\n",
    "plt.plot([0, 1], [0, 1], color='navy', lw=lw, linestyle='--')\n",
    "plt.xlim([0.0, 1.0])\n",
    "plt.ylim([0.0, 1.05])\n",
    "plt.xlabel('False Positive Rate')\n",
    "plt.ylabel('True Positive Rate')\n",
    "plt.title('Receiver operating characteristic example')\n",
    "plt.legend(loc=\"lower right\")\n",
    "plt.show()"
   ]
  },
  {
   "cell_type": "markdown",
   "metadata": {},
   "source": [
    "## Optimisation"
   ]
  },
  {
   "cell_type": "code",
   "execution_count": null,
   "metadata": {},
   "outputs": [],
   "source": []
  }
 ],
 "metadata": {
  "kernelspec": {
   "display_name": "Python 3",
   "language": "python",
   "name": "python3"
  },
  "language_info": {
   "codemirror_mode": {
    "name": "ipython",
    "version": 3
   },
   "file_extension": ".py",
   "mimetype": "text/x-python",
   "name": "python",
   "nbconvert_exporter": "python",
   "pygments_lexer": "ipython3",
   "version": "3.6.5"
  }
 },
 "nbformat": 4,
 "nbformat_minor": 2
}
